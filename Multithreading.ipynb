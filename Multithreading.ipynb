{
 "cells": [
  {
   "cell_type": "code",
   "execution_count": 2,
   "id": "engaging-strip",
   "metadata": {},
   "outputs": [
    {
     "name": "stdout",
     "output_type": "stream",
     "text": [
      "Start\n",
      "Po starcie\n"
     ]
    }
   ],
   "source": [
    "from multiprocessing import Process\n",
    "\n",
    "\n",
    "#Uruchomienie procesu z parametrem\n",
    "\n",
    "def fun(name):\n",
    "    print(\"W procesie:\",name)\n",
    "\n",
    "def main():\n",
    "    print(\"Start\")\n",
    "    p = Process(target=fun, args=('Ola',)) #Uruchamia funkcje fun na drugim watku (z jednym parametrem)\n",
    "    p.start() \n",
    "    print(\"Po starcie\")\n",
    "\n",
    "\n",
    "if __name__ == '__main__':\n",
    "    main()"
   ]
  },
  {
   "cell_type": "code",
   "execution_count": 4,
   "id": "biological-audience",
   "metadata": {},
   "outputs": [
    {
     "name": "stdout",
     "output_type": "stream",
     "text": [
      "Start programu głównego\n",
      "Koniec programu głównego\n"
     ]
    }
   ],
   "source": [
    "from multiprocessing import Process\n",
    "import time\n",
    "\n",
    "#Blokowanie procesu głównego, aż zakończy działanie proces uruchomiony (potomny)\n",
    "\n",
    "def fun():\n",
    "\n",
    "    print('Start funkcji fun i czekamy...')\n",
    "    time.sleep(3) #Odczekanie 3 sekundy\n",
    "    print('Koniec funkcji fun')\n",
    "\n",
    "def main():\n",
    "\n",
    "    p = Process(target=fun)\n",
    "    p.start()\n",
    "    p.join() # Ma być wywołane po metodzie start()\n",
    "\n",
    "\n",
    "if __name__ == '__main__':\n",
    "\n",
    "    print('Start programu głównego')\n",
    "    main()\n",
    "    print('Koniec programu głównego')"
   ]
  },
  {
   "cell_type": "code",
   "execution_count": 5,
   "id": "regular-majority",
   "metadata": {},
   "outputs": [
    {
     "name": "stdout",
     "output_type": "stream",
     "text": [
      "START\n",
      "Czy proces działa: True\n",
      "Czy proces działa: False\n"
     ]
    }
   ],
   "source": [
    "from multiprocessing import Process\n",
    "import time\n",
    "\n",
    "#Badanie, czy proces jest uruchomiony (czy działa)\n",
    "\n",
    "def fun():\n",
    "\n",
    "    print('Jestem w fun')\n",
    "    time.sleep(2)\n",
    "    print('Koniec fun')\n",
    "\n",
    "def main():\n",
    "\n",
    "    print('START')\n",
    "\n",
    "    p = Process(target=fun)\n",
    "    p.start()\n",
    "\n",
    "    print(\"Czy proces działa:\", p.is_alive())\n",
    "\n",
    "    p.join()\n",
    "\n",
    "    print(\"Czy proces działa:\", p.is_alive())\n",
    "\n",
    "\n",
    "if __name__ == '__main__':\n",
    "    main()"
   ]
  },
  {
   "cell_type": "code",
   "execution_count": 8,
   "id": "alternate-louis",
   "metadata": {},
   "outputs": [
    {
     "name": "stdout",
     "output_type": "stream",
     "text": [
      "START\n",
      "ID procesu główego: 310915\n",
      "--------------------------\n",
      "Start fun\n",
      "ID procesu macierzystego (głównego): 310915\n",
      "ID aktualnego procesu: 311199\n",
      "--------------------------\n",
      "Start fun\n",
      "ID procesu macierzystego (głównego): 310915\n",
      "ID aktualnego procesu: 311208\n",
      "--------------------------\n",
      "Koniec pracy obydwu procesów\n"
     ]
    }
   ],
   "source": [
    "from multiprocessing import Process\n",
    "import os\n",
    "\n",
    "#Odczytywanie identyfikatora aktualnego procesu oraz procesu macierzystego\n",
    "\n",
    "def fun():\n",
    "\n",
    "    print('--------------------------')\n",
    "\n",
    "    print('Start fun')\n",
    "    print('ID procesu macierzystego (głównego):', os.getppid())\n",
    "    print('ID aktualnego procesu:', os.getpid())\n",
    "\n",
    "def main():\n",
    "\n",
    "    print('START')\n",
    "    print('ID procesu główego:', os.getpid())\n",
    "\n",
    "    p1 = Process(target=fun)\n",
    "    p1.start()\n",
    "    p1.join()\n",
    "\n",
    "    p2 = Process(target=fun)\n",
    "    p2.start()\n",
    "    p2.join()\n",
    "    \n",
    "    print('--------------------------')\n",
    "    print(\"Koniec pracy obydwu procesów\")\n",
    "\n",
    "\n",
    "if __name__ == '__main__':\n",
    "    main()"
   ]
  },
  {
   "cell_type": "code",
   "execution_count": 7,
   "id": "improved-constraint",
   "metadata": {},
   "outputs": [],
   "source": [
    "from multiprocessing import Process, current_process\n",
    "import time\n",
    "\n",
    "#Nadawnie nazwy procesom\n",
    "\n",
    "def worker(czas_oczekiwania):\n",
    "\n",
    "    name = current_process().name\n",
    "    print(name, 'startuje')\n",
    "    time.sleep(czas_oczekiwania)\n",
    "    print(\"  \"+name, 'kończy')\n",
    "\n",
    "def service():\n",
    "\n",
    "    name = current_process().name\n",
    "    print(name, 'startuje')\n",
    "    time.sleep(1)\n",
    "    print(\"  \"+name, 'kończy')\n",
    "\n",
    "\n",
    "if __name__ == '__main__':\n",
    "\n",
    "    service1 = Process(name='Serwis numer 1', target=service)\n",
    "    worker1 = Process(name='Proces numer 1', target=worker, args=(2,))\n",
    "    worker2 = Process(target=worker, args=(3,)) # Użyj nazwę domyślną\n",
    "\n",
    "    service1.start()\n",
    "    worker1.start()\n",
    "    worker2.start()\n"
   ]
  },
  {
   "cell_type": "code",
   "execution_count": 8,
   "id": "cathedral-recipe",
   "metadata": {},
   "outputs": [
    {
     "name": "stdout",
     "output_type": "stream",
     "text": [
      "--------------------------\n",
      "Koniec pracy obydwu procesów\n"
     ]
    }
   ],
   "source": [
    "import time\n",
    "from multiprocessing import Process\n",
    "\n",
    "#Proces jako klasa\n",
    "\n",
    "class Worker(Process):\n",
    "\n",
    "    def run(self):\n",
    "\n",
    "        print(\"Działa proces:\",self.name)\n",
    "        time.sleep(2)\n",
    "\n",
    "def main():\n",
    "\n",
    "    worker1 = Worker()\n",
    "    worker1.start()  #Startuje pierwszy worker\n",
    "\n",
    "    worker2 = Worker()\n",
    "    worker2.start() #Startuje drugi worker\n",
    "\n",
    "    worker1.join()\n",
    "    worker2.join()\n",
    "    \n",
    "    print('--------------------------')\n",
    "    print(\"Koniec pracy obydwu procesów\")\n",
    "\n",
    "if __name__ == '__main__':\n",
    "    main()"
   ]
  },
  {
   "cell_type": "code",
   "execution_count": 5,
   "id": "successful-badge",
   "metadata": {},
   "outputs": [
    {
     "name": "stdout",
     "output_type": "stream",
     "text": [
      "Ola ma 5 lat\n"
     ]
    }
   ],
   "source": [
    "from multiprocessing import Process\n",
    "\n",
    "#Przekazywanie wielu parametrów do procesu\n",
    "\n",
    "def fun(p1,p2,p3,p4):\n",
    "    l = int(p3)\n",
    "    print(p1,p2,str(l),p4)\n",
    "\n",
    "def main():\n",
    "\n",
    "    p = Process(target=fun,args=('Ola','ma',5,'lat'))\n",
    "    p.start()\n",
    "    p.join()\n",
    "\n",
    "if __name__ == '__main__':\n",
    "    main()\n"
   ]
  },
  {
   "cell_type": "code",
   "execution_count": null,
   "id": "japanese-thesis",
   "metadata": {},
   "outputs": [
    {
     "name": "stdout",
     "output_type": "stream",
     "text": [
      "Liczba dostępnych wątków: 8\n"
     ]
    }
   ],
   "source": [
    "import time\n",
    "from timeit import default_timer as timer\n",
    "from multiprocessing import Pool, cpu_count\n",
    "\n",
    "#Uruchomienie listy (puli) procesów\n",
    "#Każdy proces dostaje jeden argument i zwraca jeden wynik\n",
    "\n",
    "def square(n):\n",
    "    print(\"Zaczyna dla parametru\",n)\n",
    "    time.sleep(2)\n",
    "    print(\"  Kończy dla parametru\",n)\n",
    "    return n * n\n",
    "\n",
    "def main():\n",
    "\n",
    "    start = timer()\n",
    "\n",
    "    print(\"Liczba dostępnych wątków:\",cpu_count())\n",
    "\n",
    "    values = (2, 4, 6, 8)\n",
    "\n",
    "    with Pool() as pool:                    #Początek strefy menadżera kontekstu \n",
    "        results = pool.map(square, values)\n",
    "        print(\"WYNIKI:\",results) \n",
    "\n",
    "    end = timer()\n",
    "    print(\"Czas obliczeń:\",end - start)\n",
    "\n",
    "if __name__ == '__main__':\n",
    "    main()"
   ]
  },
  {
   "cell_type": "code",
   "execution_count": null,
   "id": "animated-midwest",
   "metadata": {},
   "outputs": [
    {
     "name": "stdout",
     "output_type": "stream",
     "text": [
      "START\n"
     ]
    }
   ],
   "source": [
    "import time\n",
    "from multiprocessing import Pool\n",
    "\n",
    "#Uruchomienie listy (puli) procesów\n",
    "#Każdy proces dostaje DWA argumenty i zwraca DWA wyniki\n",
    "\n",
    "def power(x, y):\n",
    "\n",
    "    time.sleep(1)\n",
    "    return ((x+y),(x*y))\n",
    "\n",
    "\n",
    "def main():\n",
    "\n",
    "    print(\"START\")\n",
    "\n",
    "    values = ((1, 2), (4, 3), (3, 5)) #Pary argumentów dla procesów\n",
    "\n",
    "    with Pool() as pool:\n",
    "        res = pool.starmap(power, values)\n",
    "        print(res)\n",
    "\n",
    "    print(\"KONIEC\")\n",
    "\n",
    "\n",
    "if __name__ == '__main__':\n",
    "    main()"
   ]
  },
  {
   "cell_type": "code",
   "execution_count": 5,
   "id": "surgical-legislation",
   "metadata": {},
   "outputs": [
    {
     "name": "stdout",
     "output_type": "stream",
     "text": [
      "Wyniki: [5, 1, 7]\n"
     ]
    }
   ],
   "source": [
    "from multiprocessing import Pool\n",
    "import functools\n",
    "\n",
    "\n",
    "#Różne funkcje dla różnych procesów\n",
    "\n",
    "def inc(x):\n",
    "    return x + 1\n",
    "\n",
    "def dec(x):\n",
    "    return x - 1\n",
    "\n",
    "def add(x, y):\n",
    "    return x + y\n",
    "\n",
    "def smap(f):\n",
    "    return f()\n",
    "\n",
    "\n",
    "def main():\n",
    "\n",
    "    f_inc = functools.partial(inc, 4)\n",
    "    f_dec = functools.partial(dec, 2)\n",
    "    f_add = functools.partial(add, 3, 4)\n",
    "\n",
    "    with Pool() as pool:\n",
    "        res = pool.map(smap, [f_inc, f_dec, f_add])\n",
    "        print(\"Wyniki:\",res)\n",
    "\n",
    "\n",
    "if __name__ == '__main__':\n",
    "    main()"
   ]
  },
  {
   "cell_type": "code",
   "execution_count": null,
   "id": "ahead-compiler",
   "metadata": {},
   "outputs": [],
   "source": [
    "import time\n",
    "from timeit import default_timer as timer\n",
    "from multiprocessing import Pool, cpu_count\n",
    "\n",
    "def first():\n",
    "    return 2 + 7\n",
    "\n",
    "def second():\n",
    "    return 1 + 3\n",
    "\n",
    "def third():\n",
    "    return 5 - 2\n",
    "\n",
    "def main():\n",
    "    \n",
    "    print(\"Liczba dostępnych wątków:\",cpu_count())\n",
    "\n",
    "    result = 1\n",
    "    with Pool() as pool: \n",
    "      result *= pool\n",
    "\n",
    "    print(result)\n",
    "          \n",
    "if __name__ == '__main__':\n",
    "      main()"
   ]
  },
  {
   "cell_type": "code",
   "execution_count": null,
   "id": "ceramic-transfer",
   "metadata": {
    "pycharm": {
     "is_executing": true
    }
   },
   "outputs": [
    {
     "name": "stdout",
     "output_type": "stream",
     "text": [
      "Liczba dostępnych wątków: 8\n"
     ]
    }
   ],
   "source": [
    "import time, math\n",
    "from timeit import default_timer as timer\n",
    "from multiprocessing import Pool, cpu_count\n",
    "\n",
    "def is_prime(number):\n",
    "    if number <= 1:\n",
    "        return False\n",
    "    for i in range(2,  int(math.sqrt(number))):\n",
    "        if number % i == 0:\n",
    "            return False\n",
    "    return True\n",
    "\n",
    "def main():\n",
    "    start = timer()\n",
    "    print(\"Liczba dostępnych wątków:\",cpu_count())\n",
    "    values = range(1, 1000)\n",
    "    \n",
    "    with Pool(20) as pool:                   \n",
    "        results = pool.map(is_prime, values)\n",
    "\n",
    "    index = 1\n",
    "    prime = []\n",
    "    for i in results:\n",
    "        if i == True:\n",
    "            prime.append(index)\n",
    "        index += 1\n",
    "        \n",
    "    print(prime)\n",
    "    end = timer()\n",
    "    \n",
    "    print(\"Czas obliczeń:\",end - start)\n",
    "#0.011\n",
    "if __name__ == '__main__':\n",
    "\n",
    "    main()\n"
   ]
  },
  {
   "cell_type": "code",
   "execution_count": 33,
   "id": "ordered-feature",
   "metadata": {},
   "outputs": [
    {
     "name": "stdout",
     "output_type": "stream",
     "text": [
      "Dane w procesie głównym na początku: [1, 2]\n",
      "Dane w procesie wywołanym: [1, 2, 3]\n",
      "Proces wywołany kończy działanie\n",
      "Dane w procesie głównym na końcu: [1, 2]\n"
     ]
    }
   ],
   "source": [
    "from multiprocessing import Process, current_process\n",
    "\n",
    "#Demonstracja faktu, że dane standardowo są kopiowane w całości do procesów i mogą być zmieniane w procesach\n",
    "\n",
    "def fun(data):   \n",
    "    \n",
    "    data.append(3)\n",
    "    print(\"Dane w procesie wywołanym:\", data)\n",
    "    print(\"Proces wywołany kończy działanie\")\n",
    "\n",
    "def main():\n",
    "\n",
    "    data = [1, 2]\n",
    "        \n",
    "    print(\"Dane w procesie głównym na początku:\", data)\n",
    "\n",
    "    worker = Process(target=fun,args=(data,))\n",
    "    \n",
    "    worker.start()\n",
    "    worker.join()\n",
    "\n",
    "    print(\"Dane w procesie głównym na końcu:\",data)\n",
    "\n",
    "\n",
    "if __name__ == '__main__':\n",
    "\n",
    "    main()"
   ]
  },
  {
   "cell_type": "code",
   "execution_count": 4,
   "id": "pharmaceutical-lighter",
   "metadata": {},
   "outputs": [
    {
     "name": "stdout",
     "output_type": "stream",
     "text": [
      "mylist= [1, 2, 3, 4]\n",
      "my_value= 1\n",
      "Proces 1 startuje\n",
      "Proces 2 startuje\n",
      "Proces 1 dodaje wartość na pozycji  0\n",
      "Proces 2 dodaje wartość na pozycji  0\n",
      "Proces 1 dodaje wartość na pozycji  1\n",
      "Proces 2 dodaje wartość na pozycji  1\n",
      "Proces 1 dodaje wartość na pozycji  2\n",
      "Proces 1 dodaje wartość na pozycji  3\n",
      "Proces 1 zakończył\n",
      "Proces 2 dodaje wartość na pozycji  2\n",
      "Proces 2 dodaje wartość na pozycji  3\n",
      "Proces 2 zakończył\n",
      "--------------------------------------\n",
      "my_array= [2, 4, 6, 8] Długość tablicy= 4\n",
      "my_value= 3\n"
     ]
    }
   ],
   "source": [
    "import multiprocessing\n",
    "import time\n",
    "\n",
    "#Demonstracja wpółdzielenia pamięci przez procesy z wykorzystaniem obiektów Array i Value\n",
    "#UWAGA: W tym przykładzie jest brak mechanizmu synchronizacji procesów\n",
    "\n",
    "def fun1(mylist, my_array, my_value):\n",
    "    \n",
    "    print(\"Proces 1 startuje\")\n",
    "        \n",
    "    for i in range(0,len(mylist)): #Przepisanie listy w procesie do tablicy współdzielonej\n",
    "        my_array[i] = my_array[i] + mylist[i]\n",
    "        print(\"Proces 1 dodaje wartość na pozycji \",i)\n",
    "        time.sleep(1)\n",
    "\n",
    "    my_value.value = my_value.value + 1 #Zwiekszenie współdzielonego licznika\n",
    "    \n",
    "    print(\"Proces 1 zakończył\")\n",
    "\n",
    "def fun2(mylist, my_array, my_value):\n",
    "\n",
    "    print(\"Proces 2 startuje\")\n",
    "        \n",
    "    for i in range(0,len(mylist)):\n",
    "        my_array[i] = my_array[i] + mylist[i]  #Przepisanie listy w procesie do tablicy współdzielonej\n",
    "        print(\"Proces 2 dodaje wartość na pozycji \",i)\n",
    "        time.sleep(2)\n",
    "\n",
    "    my_value.value = my_value.value + 1 #Zwiekszenie współdzielonego licznika\n",
    "    \n",
    "    print(\"Proces 2 zakończył\")\n",
    "\n",
    "\n",
    "if __name__ == \"__main__\":\n",
    "\n",
    "    mylist = [1, 2, 3, 4] #Zwykła lista z parametrami\n",
    "    \n",
    "    print(\"mylist=\",mylist)\n",
    "\n",
    "    #Tworzenie obiektu Array z miejscem na 4 wartości całkowite\n",
    "    my_array = multiprocessing.Array('i', 4)\n",
    "\n",
    "    #Tworzenie obiektu Value do przechopwania danej całkowitej\n",
    "    my_value = multiprocessing.Value('i')\n",
    "\n",
    "    my_value.value = 1\n",
    "    print(\"my_value=\", my_value.value)\n",
    "\n",
    "    #Tworzenie procesu\n",
    "    p1 = multiprocessing.Process(target=fun1, args=(mylist, my_array, my_value))\n",
    "    p1.start()\n",
    "    \n",
    "    p2 = multiprocessing.Process(target=fun2, args=(mylist, my_array, my_value))\n",
    "    p2.start()\n",
    "    \n",
    "    p1.join()\n",
    "    p2.join()\n",
    "    \n",
    "    print(\"--------------------------------------\")\n",
    "\n",
    "    #Zawartość obiektu klasy Array\n",
    "    print(\"my_array=\",my_array[:],\"Długość tablicy=\",len(my_array))\n",
    "    # Zawartość obiektu klasy Value\n",
    "    print(\"my_value=\",my_value.value)\n",
    "\n"
   ]
  },
  {
   "cell_type": "code",
   "execution_count": 2,
   "id": "satisfactory-improvement",
   "metadata": {
    "ExecuteTime": {
     "end_time": "2023-06-17T09:15:11.928050Z",
     "start_time": "2023-06-17T09:15:11.687054300Z"
    }
   },
   "outputs": [
    {
     "name": "stdout",
     "output_type": "stream",
     "text": [
      "Licznik= 0\n"
     ]
    }
   ],
   "source": [
    "from multiprocessing import Process, Value\n",
    "import time\n",
    "import os\n",
    "\n",
    "#Demonstracja sytuacji, gdy dane są dzielone między procesami z użyciem licznika, do którego dostęp jest synchronizowany\n",
    "\n",
    "def fun(counter):\n",
    "\n",
    "    id = os.getpid()\n",
    "    print(\"Proces:\",id)\n",
    "\n",
    "    with counter.get_lock():        \n",
    "        print(\"Proces \"+str(id)+\" czeka i wstrzymuje zmianę licznika przez inne procesy\")\n",
    "        time.sleep(5)\n",
    "        counter.value += 1\n",
    "        print(\"  Proces \" + str(id) + \" zmienił licznik na:\",counter.value)\n",
    "\n",
    "def main():\n",
    "\n",
    "    counter = Value('i', 0)\n",
    "\n",
    "    p1 = Process(target=fun, args=(counter, ))\n",
    "    p1.start()\n",
    "    \n",
    "    p2 = Process(target=fun, args=(counter, ))\n",
    "    p2.start()\n",
    "    \n",
    "    p1.join()\n",
    "    p2.join()\n",
    "\n",
    "    print(\"Licznik=\",counter.value)\n",
    "\n",
    "\n",
    "if __name__ == '__main__':\n",
    "    main()"
   ]
  },
  {
   "cell_type": "code",
   "execution_count": 3,
   "id": "adjusted-completion",
   "metadata": {
    "ExecuteTime": {
     "end_time": "2023-06-17T09:16:59.320712900Z",
     "start_time": "2023-06-17T09:16:58.144640300Z"
    }
   },
   "outputs": [
    {
     "name": "stdout",
     "output_type": "stream",
     "text": [
      "A\n",
      "B\n",
      "C\n",
      "D\n"
     ]
    }
   ],
   "source": [
    "from multiprocessing import Queue, Process, current_process\n",
    "import random\n",
    "import time\n",
    "\n",
    "#Przekazywanie wiadomości jest preferowanym sposobem komunikacji między procesami.\n",
    "#Przekazywanie wiadomości pozwala uniknąć używania elementów podstawowych synchronizacji,\n",
    "#takich jak blokady, które są trudne w użyciu i podatne na błędy w złożonych sytuacjach.\n",
    "#Do przekazywania wiadomości możemy wykorzystać kolejkę do połączenia między dwoma procesami\n",
    "\n",
    "#Przykład odtyczy dwóch \"konsumentów\"\n",
    "\n",
    "def konsument(queue):\n",
    "    name = current_process().name\n",
    "    elem = queue.get()\n",
    "    print(\"Konsument \"+str(name)+\" skonsumował: \"+elem)\n",
    "    queue.put(\"X -> \"+str(elem)) #Do kolejki dodajemy informacje o skonsumowaniu\n",
    "    time.sleep(2)\n",
    "    elem = queue.get()\n",
    "    print(\"Konsument \"+str(name)+\" skonsumował: \"+elem)\n",
    "    queue.put(\"X -> \"+str(elem)) #Do kolejki dodajemy informacje o skonsumowaniu\n",
    "    \n",
    "\n",
    "def main():\n",
    "\n",
    "    queue = Queue() #Inicjacja kolejki\n",
    "    queue.put(\"A\")\n",
    "    queue.put(\"B\")\n",
    "    queue.put(\"C\")\n",
    "    queue.put(\"D\")\n",
    "\n",
    "    p1 = Process(target=konsument, args=(queue,))\n",
    "    p1.start()\n",
    "    \n",
    "    time.sleep(1)\n",
    "    \n",
    "    p2 = Process(target=konsument, args=(queue,))\n",
    "    p2.start()\n",
    "    \n",
    "    p1.join()\n",
    "    p2.join()\n",
    "    \n",
    "    \n",
    "    #Co jest w kolejce?\n",
    "    while not queue.empty():\n",
    "        elem = queue.get()\n",
    "        print(elem)\n",
    "\n",
    "if __name__ == \"__main__\":\n",
    "    main()"
   ]
  },
  {
   "cell_type": "code",
   "execution_count": 10,
   "id": "applicable-stream",
   "metadata": {
    "pycharm": {
     "name": "#%%\n"
    }
   },
   "outputs": [
    {
     "name": "stdout",
     "output_type": "stream",
     "text": [
      "Wynik= 28\n"
     ]
    }
   ],
   "source": [
    "#Program liczący wartość wyrazenia (2+5)*(7-3)\n",
    "\n",
    "from multiprocessing import Queue, Process, current_process\n",
    "\n",
    "def suma(queue,a,b):\n",
    "    suma = a + b    \n",
    "    queue.put(suma)\n",
    "    \n",
    "def roznica(queue,a,b):\n",
    "    roznica = a - b    \n",
    "    queue.put(roznica)    \n",
    "    \n",
    "def main():\n",
    "\n",
    "    queue = Queue() #Inicjacja kolejki\n",
    "    \n",
    "    p1 = Process(target=suma, args=(queue,2,5))\n",
    "    p1.start()\n",
    "       \n",
    "    p2 = Process(target=roznica, args=(queue,7,3))\n",
    "    p2.start()\n",
    "    \n",
    "    p1.join()\n",
    "    p2.join()\n",
    "    \n",
    "    elem1 = queue.get()\n",
    "    elem2 = queue.get()\n",
    "     \n",
    "    iloczyn = elem1 * elem2\n",
    "    \n",
    "    print(\"Wynik=\",iloczyn)\n",
    "    \n",
    "if __name__ == '__main__':\n",
    "    main()"
   ]
  }
 ],
 "metadata": {
  "kernelspec": {
   "display_name": "Python 3",
   "language": "python",
   "name": "python3"
  },
  "language_info": {
   "codemirror_mode": {
    "name": "ipython",
    "version": 3
   },
   "file_extension": ".py",
   "mimetype": "text/x-python",
   "name": "python",
   "nbconvert_exporter": "python",
   "pygments_lexer": "ipython3",
   "version": "3.7.9"
  }
 },
 "nbformat": 4,
 "nbformat_minor": 5
}
