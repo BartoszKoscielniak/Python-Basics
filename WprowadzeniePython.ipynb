{
 "cells": [
  {
   "cell_type": "markdown",
   "metadata": {},
   "source": [
    "# Podstawy programowania w języku Python"
   ]
  },
  {
   "cell_type": "code",
   "execution_count": 1,
   "metadata": {},
   "outputs": [
    {
     "name": "stdout",
     "output_type": "stream",
     "text": [
      "Ala i Ola\n",
      "Ala i Ola\n",
      "-------------------------\n",
      "Tola \n",
      "Tola \n",
      "Tola ma Asa \n",
      "Tola szuka Asa \n",
      "Tola ma Asa i Mruczka\n",
      "-------------------------\n",
      "Ala, \n",
      "Ola, \n",
      "Tola\n",
      "-------------------------\n",
      "Długość tektu wielolinijkowego= 16\n",
      "-------------------------\n",
      "12\n",
      "-------------------------\n",
      "i= 12\n",
      "-------------------------\n",
      "i=12\n",
      "-------------------------\n",
      "i=12\n"
     ]
    }
   ],
   "source": [
    "#Polecenie 'reset -f' usuwa wszystkie zmienne z pamięci. Polecenie to jest używane po to, aby każda komórka mogła być \n",
    "#uruchamiana w dowolnym momencie i niezależnie od innych komórek\n",
    "#Bez tego polecenia narażamy się na ryzyko, że podczas konstrukcji programu w danej komórce, wykorzystamy \n",
    "#zmienną utworzoną w innej komórce i wtedy dla uruchomienia programu w danej komórce, konieczne będzie \n",
    "#wcześniejsze uruchomienie innej komórki, a tego chcemy tutaj uniknąć\n",
    "%reset -f \n",
    "\n",
    "#PODSTAWY WYPISYWANIA TEKSTU I LICZB\n",
    "\n",
    "#Wypisywanie tekstu\n",
    "print('Ala i Ola') #znaki w apostrofie\n",
    "print(\"Ala i Ola\") #znaki w cudzysłowie\n",
    "\n",
    "print('-------------------------')\n",
    "\n",
    "#Zmienna tekstowa i jej wypisywanie\n",
    "s = 'Tola '; print(s)\n",
    "t = s + 'ma '\n",
    "u = s + \"szuka \"\n",
    "print(s)\n",
    "print(t + 'Asa ')\n",
    "print(u + \"Asa \")\n",
    "print(t + \"Asa \"+ 'i Mruczka') #mieszanie apostrofu i cudzysłowu\n",
    "\n",
    "print('-------------------------')\n",
    "\n",
    "#Wypisanie tekstu wielolinijkowego\n",
    "l = 'Ala, \\n'\n",
    "l = l + 'Ola, \\n' \n",
    "l = l + 'Tola' \n",
    "print(l) \n",
    "\n",
    "print('-------------------------')\n",
    "\n",
    "#Długość tekstu\n",
    "print(\"Długość tektu wielolinijkowego=\",len(l)) \n",
    "\n",
    "print('-------------------------')\n",
    "\n",
    "#Zmienna całkowita i jej wypisywanie\n",
    "i = 12; print(i) #Uwaga: Średnik umożliwia umieszczenie więcej niz jednej instrukcji w tym samym wierszu kodu\n",
    "\n",
    "print('-------------------------')\n",
    "\n",
    "#Wypisanie stringa i liczby\n",
    "print('i=',i) \n",
    "\n",
    "print('-------------------------')\n",
    "\n",
    "#Wypisanie złaczenia stringa i liczby\n",
    "si = 'i='+str(i) #wymaga zamiany (konwersji) liczby na string \n",
    "print(si) \n",
    "\n",
    "print('-------------------------')\n",
    "\n",
    "#Bezpośrednie wypisanie złaczenia tekstow\n",
    "print('i='+str(i)) \n",
    "\n"
   ]
  },
  {
   "cell_type": "code",
   "execution_count": 3,
   "metadata": {},
   "outputs": [
    {
     "name": "stdout",
     "output_type": "stream",
     "text": [
      "110 20 16.4 99.0\n"
     ]
    }
   ],
   "source": [
    "#Polecenie usuwa wszystkie zmienne z pamięci \n",
    "%reset -f \n",
    "\n",
    "#KONWERSJE tekstów (stringów) do wartości całkowitej i zmiennoprzecinkowej\n",
    "\n",
    "i1 = int(\"110\")\n",
    "i2 = int(20.54)\n",
    "\n",
    "f1 = float(\"16.4\")\n",
    "f2 = float(99)\n",
    "\n",
    "print(i1,i2,f1,f2)\n"
   ]
  },
  {
   "cell_type": "code",
   "execution_count": 4,
   "metadata": {},
   "outputs": [
    {
     "name": "stdout",
     "output_type": "stream",
     "text": [
      "x jest równe 100!\n",
      "x jest parzyste!\n",
      "Witaj, świecie!\n"
     ]
    }
   ],
   "source": [
    "#INSTRUKCJA WARUNKOWA\n",
    "\n",
    "#Polecenie usuwa wszystkie zmienne z pamięci \n",
    "%reset -f \n",
    "\n",
    "x = 100\n",
    "\n",
    "if x == 100:\n",
    "    print(\"x jest równe 100!\")\n",
    "\n",
    "if x % 2 == 0:\n",
    "    print(\"x jest parzyste!\")\n",
    "else:\n",
    "    print(\"x jest nieparzyste!\")\n",
    "\n",
    "#Instrukcja zagnieżdżona\n",
    "home = \"Albania\"\n",
    "if home == \"Polska\":\n",
    "    print(\"Witaj, Polsko!\")\n",
    "elif home == \"Niemcy\":\n",
    "    print(\"Witajcie, Niemcy!\")\n",
    "elif home == \"Francja\":\n",
    "    print(\"Witaj, Francjo!\")\n",
    "elif home == \"USA\":\n",
    "    print(\"Witaj, USA!\")\n",
    "else:\n",
    "    print(\"Witaj, świecie!\")\n"
   ]
  },
  {
   "cell_type": "code",
   "execution_count": 5,
   "metadata": {},
   "outputs": [
    {
     "name": "stdout",
     "output_type": "stream",
     "text": [
      "Witaj: 0\n",
      "Witaj: 1\n",
      "Witaj: 2\n",
      "Witaj: 3\n",
      "Witaj: 4\n",
      "-------------------------\n",
      "Witaj: 2\n",
      "Witaj: 3\n",
      "Witaj: 4\n",
      "-------------------------\n",
      "Test break\n",
      "1\n",
      "2\n",
      "3\n",
      "4\n",
      "5\n",
      "-------------------------\n",
      "Test continue\n",
      "1\n",
      "3\n",
      "5\n"
     ]
    }
   ],
   "source": [
    "#PĘTLA FOR\n",
    "\n",
    "#Polecenie usuwa wszystkie zmienne z pamięci \n",
    "%reset -f \n",
    "\n",
    "\n",
    "#Wypisywanie od 0 do 4\n",
    "for i in range(5):\n",
    "    print(\"Witaj: \"+str(i))\n",
    "\n",
    "print('-------------------------')\n",
    "\n",
    "#Wypisywanie od 2 do 4\n",
    "for i in range(2, 5):\n",
    "    print(\"Witaj: \"+str(i))    \n",
    "\n",
    "print('-------------------------')\n",
    "print('Test break')\n",
    "#Wypisanie tylko 5 liczb (1, 2, 3, 4, 5) z użyciem break\n",
    "for i in range(1, 100):\n",
    "    if i>5:\n",
    "        break\n",
    "    print(i)    \n",
    "\n",
    "print('-------------------------')    \n",
    "    \n",
    "#Wypisanie nieparzystych z uzyciem continue\n",
    "print('Test continue')\n",
    "for i in range(1, 6):\n",
    "    if i % 2 == 0:\n",
    "        continue\n",
    "    print(i)\n",
    "\n",
    "\n",
    "    "
   ]
  },
  {
   "cell_type": "code",
   "execution_count": 6,
   "metadata": {},
   "outputs": [
    {
     "name": "stdout",
     "output_type": "stream",
     "text": [
      "1\n",
      "2\n",
      "3\n",
      "4\n",
      "5\n"
     ]
    }
   ],
   "source": [
    "#PĘTLA WHILE\n",
    "\n",
    "#Polecenie usuwa wszystkie zmienne z pamięci \n",
    "%reset -f \n",
    "\n",
    "\n",
    "#Wypisanie 5 liczb od 1 do 5\n",
    "x=1\n",
    "while (x<=5):\n",
    "    print(x)\n",
    "    x=x+1\n",
    "        "
   ]
  },
  {
   "cell_type": "code",
   "execution_count": 4,
   "metadata": {},
   "outputs": [
    {
     "name": "stdin",
     "output_type": "stream",
     "text": [
      "Ile masz lat:  1\n"
     ]
    },
    {
     "name": "stdout",
     "output_type": "stream",
     "text": [
      "Nie jesteś pełnoletni bo masz 1 lat\n"
     ]
    },
    {
     "name": "stdin",
     "output_type": "stream",
     "text": [
      "Ile ważysz:  12\n"
     ]
    },
    {
     "name": "stdout",
     "output_type": "stream",
     "text": [
      "Ważysz mniej niż 100 kg\n"
     ]
    }
   ],
   "source": [
    "#WCZYTYWANIE DANYCH Z KLAWIATURY\n",
    "\n",
    "#Polecenie usuwa wszystkie zmienne z pamięci \n",
    "%reset -f \n",
    "\n",
    "\n",
    "wiek = input(\"Ile masz lat: \")\n",
    "intWiek = int(wiek)\n",
    "if intWiek < 18:\n",
    "    print(\"Nie jesteś pełnoletni bo masz \"+wiek+\" lat\")\n",
    "else:\n",
    "    print(\"Jesteś pełnoletni!\")   \n",
    "\n",
    "waga = input(\"Ile ważysz: \")\n",
    "fWiek = float(waga)\n",
    "if fWiek < 100:\n",
    "    print(\"Ważysz mniej niż 100 kg\")\n",
    "else:\n",
    "    print(\"Ważysz więcej niż 100 kg!\")\n",
    "\n",
    "\n",
    "    \n",
    "    "
   ]
  },
  {
   "cell_type": "code",
   "execution_count": 1,
   "metadata": {},
   "outputs": [
    {
     "name": "stdin",
     "output_type": "stream",
     "text": [
      "Podaj liczbe 1:  55.5\n",
      "Podaj liczbe 2:  3.4\n",
      "Podaj dzialanie:  -\n"
     ]
    },
    {
     "name": "stdout",
     "output_type": "stream",
     "text": [
      "52.1\n"
     ]
    }
   ],
   "source": [
    "##### Zadanie 1: Napisz program Kalkulator, który pozwala wykonywać cztery podstawowe działania na ułamkach dziesiętnych \n",
    "#(dodawanie, odejmowanie, mnożenie i dzielenie). Weź pod uwagę, że dzielenie liczb wymiernych nie jest zawsze \n",
    "#wykonalne.\n",
    "\n",
    "%reset -f\n",
    "n1 = input(\"Podaj liczbe 1: \")\n",
    "n1 = n1.replace(\" \", \"\")\n",
    "n2 = input(\"Podaj liczbe 2: \")\n",
    "n2 = n2.replace(\" \", \"\")\n",
    "operation = input(\"Podaj dzialanie: \")\n",
    "operation = operation.replace(\" \", \"\")\n",
    "\n",
    "operations = ['+', '-', '/', '*']\n",
    "\n",
    "\n",
    "def correctness(number1, number2, operation):\n",
    "    try:\n",
    "        number1 = float(number1)\n",
    "        number2 = float(number2)\n",
    "    except:\n",
    "        raise ValueError(\"Incorrect number/s form\")\n",
    "\n",
    "    try:\n",
    "        match = False\n",
    "        for opr in operations:\n",
    "            if opr == operation:\n",
    "                match = True\n",
    "\n",
    "        if not match:\n",
    "            raise ValueError(\"Incorrect operation\")\n",
    "    except:\n",
    "        raise ValueError(\"Incorrect operation\")\n",
    "\n",
    "    return number1, number2\n",
    "\n",
    "\n",
    "def calculate(n1, n2, operation):\n",
    "    try:\n",
    "        number1, number2 = correctness(n1, n2, operation)\n",
    "\n",
    "        if operation == operations[0]:\n",
    "            print(number1 + number2)\n",
    "        elif operation == operations[1]:\n",
    "            print(number1 - number2)\n",
    "        elif operation == operations[2]:\n",
    "            print(number1 / number2)\n",
    "        elif operation == operations[3]:\n",
    "            print(number1 * number2)\n",
    "    except ValueError as err:\n",
    "        print(err)\n",
    "\n",
    "\n",
    "calculate(n1, n2, operation)"
   ]
  },
  {
   "cell_type": "code",
   "execution_count": 2,
   "metadata": {},
   "outputs": [
    {
     "name": "stdout",
     "output_type": "stream",
     "text": [
      "PKB Polski podwoi się po 12 latach\n",
      "PKB Polski przewyższy PKB Niemiec po 19 latach\n"
     ]
    }
   ],
   "source": [
    "#Zadanie 2: Jedną z najważniejszych w dzisiejszych czasach miar znaczenia państw jest wielkość produktu krajowego \n",
    "#brutto (w skrócie PKB), a miarą zamożności obywateli jest wielkość PKB na jednego mieszkańca.  \n",
    "#W 2006 roku PKB Polski wyniósł 14880 USD. Natomiast przyrost PKB w stosunku do roku 2005 był na poziomie 6,2%. \n",
    "#Dla porównania, PKB Niemiec na jednego mieszkańca w 2005 roku wyniósł 33400 USD przy wzroście w stosunku do \n",
    "#roku 2004 o 1,6%. Zakładając, że w ciągu kolejnych lat tempo wzrostu PKB w Polsce i w Niemczech nie zmieniło się, \n",
    "#napisać program, który odpowie na dwa następujące pytania.\n",
    "#1.Ile lat miało minąć, aby PKB Polski podwoił się?\n",
    "#2.Ile lat miało minąć, aby PKB Polski przewyższył PKB Niemiec?\n",
    "\n",
    "%reset -f\n",
    "pkbPlBase = 14880\n",
    "pkbDEBase = 33400 + 33400 * 0.016\n",
    "\n",
    "pkbPLInc = 0.062\n",
    "pkbDEInc = 0.016\n",
    "\n",
    "\n",
    "def pyt1(pkb, inc):\n",
    "    currentPkb = pkb\n",
    "    years = 0\n",
    "    while pkb * 2 >= currentPkb:\n",
    "        currentPkb = currentPkb + currentPkb * inc\n",
    "        years += 1\n",
    "\n",
    "    print(\"PKB Polski podwoi się po\", years, \"latach\")\n",
    "\n",
    "\n",
    "def pyt2(pkbPL, incPL, pkbDE, incDE):\n",
    "    years = 0\n",
    "    while pkbPL < pkbDE:\n",
    "        pkbPL = pkbPL + pkbPL * incPL\n",
    "        pkbDE = pkbDE + pkbDE * incDE\n",
    "        years += 1\n",
    "\n",
    "    print(\"PKB Polski przewyższy PKB Niemiec po\", years, \"latach\")\n",
    "\n",
    "\n",
    "pyt1(pkbPlBase, pkbPLInc)\n",
    "pyt2(pkbPlBase, pkbPLInc, pkbDEBase, pkbDEInc)"
   ]
  },
  {
   "cell_type": "code",
   "execution_count": 1,
   "metadata": {},
   "outputs": [
    {
     "name": "stdout",
     "output_type": "stream",
     "text": [
      "Dzien 1 : 1 chorych\n",
      "Dzien 2 : 3 chorych\n",
      "Dzien 3 : 9 chorych\n",
      "Dzien 4 : 27 chorych\n",
      "Dzien 5 : 81 chorych\n",
      "Dzien 6 : 243 chorych\n",
      "Dzien 7 : 729 chorych\n",
      "Dzien 8 : 2187 chorych\n",
      "Dzien 9 : 6561 chorych\n",
      "Dzien 10 : 10000 chorych\n",
      "Dzien 11 : 10000 chorych\n",
      "Dzien 12 : 10000 chorych\n",
      "Dzien 13 : 10000 chorych\n",
      "Dzien 14 : 10000 chorych\n",
      "Dzien 15 : 10000 chorych\n",
      "Dzien 16 : 9999 chorych\n",
      "Dzien 17 : 9997 chorych\n",
      "Dzien 18 : 9991 chorych\n",
      "Dzien 19 : 9973 chorych\n",
      "Dzien 20 : 9919 chorych\n",
      "Dzien 21 : 9757 chorych\n",
      "Dzien 22 : 9271 chorych\n",
      "Dzien 23 : 7813 chorych\n",
      "Dzien 24 : 3439 chorych\n",
      "Dzien 25 : 0 chorych\n",
      "Najwiecej chorych bylo po 10 dniach\n",
      "Epidemia wygasla po: 25 dniach.\n"
     ]
    }
   ],
   "source": [
    "#Zadanie 3: W pewnej zamkniętej społeczności liczącej 10000 osób pojawiła się osoba chora na pewną chorobę \n",
    "#(\"pacjent 0\"), co spowodowało epidemię. Wiedząc, że każda osoba chora na tę chorobę zaraża codziennie dwie \n",
    "#zdrowe osoby, które od razu od tego dnia zaczynają chorować, podać przewidywany przebieg epidemii. W szczególności \n",
    "#odpowiedzieć na pytanie: po ilu dniach będzie najwięcej chorych i kiedy epidemia wygaśnie z powodu braku osób \n",
    "#podatnych na zachorowanie? Założyć przy tym, że choroba trwa 14 dni od dnia zarażenia i przez ten okres chorzy \n",
    "#mogą zarażać inne osoby. Oprócz tego osoby, które wyzdrowiały nie mogą już zachorować. \n",
    "\n",
    "%reset -f\n",
    "class Person:\n",
    "    def __init__(self):\n",
    "        self.healthState = 0  # 0 == zdrowy\n",
    "        self.illnessDay = 0\n",
    "\n",
    "\n",
    "def isSick(person):\n",
    "    if person.healthState == 1:\n",
    "        if person.illnessDay > 14:\n",
    "            person.healthState = 0\n",
    "        else:\n",
    "            person.illnessDay += 1\n",
    "    return person\n",
    "\n",
    "\n",
    "def getSick(person):\n",
    "    if person.healthState == 0 and person.illnessDay == 0:\n",
    "        person.healthState = 1\n",
    "\n",
    "    return person\n",
    "\n",
    "\n",
    "def getSickAmount(processArray):\n",
    "    amount = 0\n",
    "    for x in range(0, len(processArray)):\n",
    "        if processArray[x].healthState == 1:\n",
    "            amount += 1\n",
    "\n",
    "    return amount\n",
    "\n",
    "\n",
    "def epidemy(societyNumerosity):\n",
    "    day = 1\n",
    "    topCasesDay = 0\n",
    "    process = [Person() for x in range(0, societyNumerosity)]\n",
    "\n",
    "    process[0] = getSick(process[0])\n",
    "    sickAmount = 1\n",
    "    while sickAmount > 0:\n",
    "\n",
    "        for x in range(0, len(process)):\n",
    "            process[x] = isSick(process[x])\n",
    "\n",
    "        sickAmount = getSickAmount(process)\n",
    "        print(\"Dzien\", day, \":\", sickAmount, \"chorych\")\n",
    "        if topCasesDay == 0 and sickAmount == societyNumerosity:\n",
    "            topCasesDay = day\n",
    "\n",
    "        if sickAmount == 0:\n",
    "            break\n",
    "\n",
    "        if sickAmount != societyNumerosity:\n",
    "            for x in range(0, sickAmount * 2):\n",
    "                for y in range(0, len(process)):\n",
    "                    if process[y].healthState == 0:\n",
    "                        process[y] = getSick(process[y])\n",
    "                        break\n",
    "\n",
    "        day += 1\n",
    "\n",
    "    print()\n",
    "    print(\"Najwiecej chorych bylo po\",topCasesDay,\"dniach\")\n",
    "    print(\"Epidemia wygasla po:\",day,\"dniach.\")\n",
    "\n",
    "epidemy(10000)"
   ]
  },
  {
   "cell_type": "code",
   "execution_count": null,
   "metadata": {},
   "outputs": [],
   "source": [
    "#Demonstracja uzycia zewnętrznej biblioteki na przykładzie OBLICZANIA PRZECIWPROSTOKATNEJ TRÓJKĄTA\n",
    "#Importowanie pakietu math\n",
    "\n",
    "#Polecenie usuwa wszystkie zmienne z pamięci \n",
    "%reset -f \n",
    "\n",
    "\n",
    "import math\n",
    "a = 3\n",
    "b = 4\n",
    "c = math.sqrt(a**2 + b**2) #sqrt to funkcja licząca pierwiastek kwadratowy\n",
    "print(\"c=\"+str(c))\n"
   ]
  },
  {
   "cell_type": "code",
   "execution_count": 9,
   "metadata": {},
   "outputs": [
    {
     "name": "stdout",
     "output_type": "stream",
     "text": [
      "kwadrat(2)=4\n",
      "-------------------------\n",
      "suma(1, 2, 3)=6\n",
      "-------------------------\n",
      "6 6 12\n",
      "-------------------------\n",
      "suma=8 roznica=2\n"
     ]
    }
   ],
   "source": [
    "#DEMONSTRACJA TWORZENIA WŁASNYCH FUNKCJI\n",
    "\n",
    "#Polecenie usuwa wszystkie zmienne z pamięci \n",
    "%reset -f \n",
    "\n",
    "\n",
    "#Funkcja: \"do kwadratu\"\n",
    "\n",
    "def kwadrat(x):\n",
    "    return x * x\n",
    "\n",
    "print(\"kwadrat(2)=\"+str(kwadrat(2)))\n",
    "\n",
    "print('-------------------------')    \n",
    "\n",
    "#Funkcja z 3 parametrami\n",
    "\n",
    "def suma(x, y, z):\n",
    "    return x + y + z\n",
    "\n",
    "s = suma(1, 2, 3)\n",
    "print(\"suma(1, 2, 3)=\"+str(s))\n",
    "\n",
    "\n",
    "print('-------------------------')    \n",
    "\n",
    "#Funkcja z parametrem opcjonalnym (nie musi być podawany przy wywołaniu, wtedy przyjmuje wartość wcześniej ustaloną)\n",
    "\n",
    "def mnozenie(x, y=2):\n",
    "    return x * y\n",
    "\n",
    "m1 = mnozenie(3)\n",
    "m2 = mnozenie(3,2)\n",
    "m3 = mnozenie(3,4)\n",
    "print(m1,m2,m3)\n",
    "\n",
    "print('-------------------------')    \n",
    "\n",
    "#Demonstracja możliwości zwracania więcej niż jednego parametru przez funkcję\n",
    "\n",
    "def suma_roznica(x, y):\n",
    "    suma = x + y\n",
    "    roznica= x - y\n",
    "    return suma, roznica\n",
    "\n",
    "s,r = suma_roznica(5,3)\n",
    "print(\"suma=\"+str(s),\"roznica=\"+str(r))\n",
    "\n"
   ]
  },
  {
   "cell_type": "code",
   "execution_count": null,
   "metadata": {},
   "outputs": [],
   "source": [
    "def srednia():\n",
    "    s = 0\n",
    "    for i in range(1,16):\n",
    "        s = i + s\n",
    "    s = s / 15\n",
    "    return s;\n",
    "\n",
    "print(srednia())"
   ]
  },
  {
   "cell_type": "code",
   "execution_count": 10,
   "metadata": {},
   "outputs": [
    {
     "name": "stdout",
     "output_type": "stream",
     "text": [
      "x_globalnie przed wywołaniem f: 1\n",
      "   x_lokalnie przed inkrementacją x: 1\n",
      "   x_lokalnie po inkrementacji x: 2\n",
      "   y_lokalnie= 3\n",
      "x_globalnie po wywołaniu f: 2\n"
     ]
    }
   ],
   "source": [
    "#Demonstracja zasięgu zmiennej (LOKALNEGO I GLOBALNEGO)\n",
    "\n",
    "#Polecenie usuwa wszystkie zmienne z pamięci \n",
    "%reset -f \n",
    "\n",
    "\n",
    "x = 1 #To jest zmienna globalna\n",
    "\n",
    "def f():    \n",
    "    y = 3     #To jest zmienna lokalna\n",
    "    global x  #Tak się powołujemy na zmienną globalną\n",
    "    print(\"   x_lokalnie przed inkrementacją x:\",x)    \n",
    "    x = x + 1   #Zmiana wartości tej zmiennej będzie miała skutek po zakończeniu wywołania funkcji\n",
    "    print(\"   x_lokalnie po inkrementacji x:\",x)        \n",
    "    print(\"   y_lokalnie=\",y)    \n",
    "    \n",
    "\n",
    "print(\"x_globalnie przed wywołaniem f:\",x)\n",
    "f()\n",
    "print(\"x_globalnie po wywołaniu f:\",x) #Zauważ, że wartośc x zwiększyła się o 1\n",
    "#print(y) #Taka instrukcja nie zadziała (brak zasięgu)\n"
   ]
  },
  {
   "cell_type": "code",
   "execution_count": 11,
   "metadata": {},
   "outputs": [
    {
     "name": "stdout",
     "output_type": "stream",
     "text": [
      "wpisz a: 22\n",
      "wpisz b: 233\n",
      "0.0944206008583691\n",
      "KONIEC\n"
     ]
    }
   ],
   "source": [
    "#Obsługa standardowego wyjątku\n",
    "\n",
    "#Polecenie usuwa wszystkie zmienne z pamięci \n",
    "%reset -f \n",
    "\n",
    "a = input(\"wpisz a: \")\n",
    "b = input(\"wpisz b: \")\n",
    "a = int(a)\n",
    "b = int(b)\n",
    "try:\n",
    "    print(a / b)\n",
    "except ZeroDivisionError:                   #Łapanie wyjątku\n",
    "    print(\"Liczba b nie może być równa 0.\")\n",
    "    \n",
    "print(\"KONIEC\")\n",
    "    \n"
   ]
  },
  {
   "cell_type": "code",
   "execution_count": 12,
   "metadata": {},
   "outputs": [
    {
     "name": "stdout",
     "output_type": "stream",
     "text": [
      "wpisz a: 22\n",
      "wpisz b: 33\n",
      "0.6666666666666666\n",
      "KONIEC\n"
     ]
    }
   ],
   "source": [
    "#Obsługa wyjątku z własnym komunikatem (jawne rzucenie wyjątku)\n",
    "\n",
    "#Polecenie usuwa wszystkie zmienne z pamięci \n",
    "%reset -f \n",
    "\n",
    "a = input(\"wpisz a: \")\n",
    "b = input(\"wpisz b: \")\n",
    "a = int(a)\n",
    "b = int(b)\n",
    "\n",
    "try:\n",
    "    \n",
    "    if b==0: raise ValueError(\"Nie można dzielić przez 0!\")\n",
    "        \n",
    "    print(a / b)\n",
    "    \n",
    "except ValueError as myerror: #Obsługa wyjątku z odczytaniem komunikatu \n",
    "        print(myerror)\n",
    "\n",
    "print(\"KONIEC\")\n"
   ]
  },
  {
   "cell_type": "code",
   "execution_count": 13,
   "metadata": {},
   "outputs": [
    {
     "name": "stdout",
     "output_type": "stream",
     "text": [
      "2\n",
      "0.9239303293287825\n"
     ]
    }
   ],
   "source": [
    "#Demonstracja generowania liczb losowych\n",
    "\n",
    "#Polecenie usuwa wszystkie zmienne z pamięci \n",
    "%reset -f \n",
    "\n",
    "import random\n",
    "\n",
    "k = random.randint(1,5) #Zwraca losowo liczbę calkowitą od 0 do 5 (spośród: 1,2,3,4,5)\n",
    "print(k)\n",
    "\n",
    "p = random.random(); #LOSOWA LICZBA Z PRZEDZIALU [0,1]  \n",
    "print(p)\n"
   ]
  },
  {
   "cell_type": "code",
   "execution_count": 14,
   "metadata": {},
   "outputs": [
    {
     "name": "stdout",
     "output_type": "stream",
     "text": [
      "1. Kamien\n",
      "2. Papier\n",
      "3. Nozyce\n"
     ]
    },
    {
     "name": "stdin",
     "output_type": "stream",
     "text": [
      "Wybierz swoj ruch: 2\n"
     ]
    },
    {
     "name": "stdout",
     "output_type": "stream",
     "text": [
      "Wygrana\n",
      "Komputer wybral:  1\n"
     ]
    }
   ],
   "source": [
    "#Zadanie 4. Napisz program, który realizuje grę komputerową o nazwie: kamień, papier i nożyce. \n",
    "#W tej grze użytkownik komputera gra z komputerem. Odbywa się to w ten sposób, że komputer pyta użytkownika co \n",
    "#wybiera: kamień, papier czy nożyce. \n",
    "#Jeśli użytkownik poda tę informację z klawiatury (np. jedną z liczb 1, 2 lub 3), to wtedy komputer losuje \n",
    "#swój ruch (czyli także wybiera jedną z trzech wymienionych rzeczy), po czym informuje użytkownika o wyniku \n",
    "#rozgrywki. Zasady gry są takie: kamień wygrywa z nożycam (bo nożyce nie mogą go przeciąć) ale \n",
    "#przegrywa z papierem (bo za pomocą papieru potrafimy owinąć kamień), natomiast papier przegrywa z nożycami \n",
    "#(bo nożyce łatwo przetną papier). \n",
    "#Dwa jednakowe przedmioty dają remis. Gra ma zapewnić wielokrotną rozgrywkę w czasie jednego uruchomienia programu, \n",
    "#zliczając uzyskane punkty gracza i komputera.\n",
    "\n",
    "import random\n",
    "\n",
    "def game():\n",
    "\n",
    "    print(\"1. Kamien\")\n",
    "    print(\"2. Papier\")\n",
    "    print(\"3. Nozyce\")\n",
    "    move = input(\"Wybierz swoj ruch:\")\n",
    "    \n",
    "    try:\n",
    "        move = float(move)\n",
    "    except:\n",
    "        print(\"Bledny wybor\")\n",
    "        return None\n",
    "    \n",
    "    if (move < 1 or move > 3): return None\n",
    "\n",
    "    computerMove = random.randint(1, 2)\n",
    "    if move == computerMove:\n",
    "        print(\"Remis\")\n",
    "        print(\"Komputer wybral: \", computerMove)\n",
    "        return None\n",
    "    elif move == 1 and computerMove == 3 or move == 2 and computerMove == 1 or move == 3 and computerMove == 2:\n",
    "        print(\"Wygrana\")\n",
    "        print(\"Komputer wybral: \", computerMove)\n",
    "        return None\n",
    "    else:\n",
    "        print(\"Przegrana\")\n",
    "        print(\"Komputer wybral: \", computerMove)\n",
    "        return None\n",
    "\n",
    "game()"
   ]
  },
  {
   "cell_type": "markdown",
   "metadata": {},
   "source": [
    "# Struktury danych"
   ]
  },
  {
   "cell_type": "code",
   "execution_count": 14,
   "metadata": {},
   "outputs": [
    {
     "name": "stdout",
     "output_type": "stream",
     "text": [
      "3\n",
      "czerwony\n",
      "zielony\n",
      "niebieski\n",
      "----\n",
      "czerwony\n",
      "zielony\n",
      "niebieski\n",
      "=================\n",
      "moja_lista: [1, 2.3, 'a', True]\n",
      "Pierwszy element listy: 1\n",
      "Lista zawierająca drugi i trzeci element: [2.3, 'a']\n",
      "Lista odwrócona: [True, 'a', 2.3, 1]\n",
      "=================\n",
      "moja_lista po dodaniu dwóch elementów: [1, 2.3, 'a', True, 5, 'Ala']\n",
      "=================\n",
      "Lista przed zmianą: ['ala', 'ola', 'tola', 'as']\n",
      "Lista po zmianie oli na bolka: ['ala', 'bolek', 'tola', 'as']\n",
      "Lista po usunięciu ostatniego: ['ala', 'bolek', 'tola']\n",
      "Lista po usunięciu drugiego: ['ala', 'tola']\n"
     ]
    }
   ],
   "source": [
    "#Demonstracja tworzenia i przetwarzania list\n",
    "\n",
    "#Polecenie usuwa wszystkie zmienne z pamięci \n",
    "%reset -f \n",
    "\n",
    "#Ręczne tworzenie listy\n",
    "kolory = [\"czerwony\",\"zielony\",\"niebieski\"]\n",
    "\n",
    "print(len(kolory)) #Ujawnienie dlugosci listy\n",
    "\n",
    "#Wypisanie listy\n",
    "for kolor in kolory:\n",
    "    print(kolor)    \n",
    "\n",
    "print(\"----\") \n",
    "\n",
    "#Inne wypisanie listy\n",
    "for i in range(0,len(kolory)):\n",
    "    print(kolory[i])    \n",
    "\n",
    "print(\"=================\")     \n",
    "\n",
    "empty_list1 = []      #Pierwszy sposób tworzenia pustej listy\n",
    "empty_list2 = list()  #Drugi sposób tworzenia pustej listy\n",
    "\n",
    "moja_lista =[1, 2.3, 'a', True] #Ręczna inicjacja listy z wartościami różnych typów\n",
    "\n",
    "print(\"moja_lista:\",moja_lista) #Wypisanie całości listy\n",
    "print(\"Pierwszy element listy:\",moja_lista[0]) #Indeksacja od 0\n",
    "print(\"Lista zawierająca drugi i trzeci element:\",moja_lista[1:3]) #Wycięcie fragmentu listy od pozycji 1 do pozycji 3-1=2\n",
    "print(\"Lista odwrócona:\",moja_lista[::-1]) #Lista odwrócona\n",
    "\n",
    "print(\"=================\")     \n",
    "\n",
    "#Dodanie 2 elementów do listy na koniec\n",
    "moja_lista.append(5)\n",
    "moja_lista.append(\"Ala\")\n",
    "\n",
    "print(\"moja_lista po dodaniu dwóch elementów:\",moja_lista)\n",
    "\n",
    "print(\"=================\")     \n",
    "\n",
    "#Demonstracja zmiany wartości na liście\n",
    "lista = [\"ala\",\"ola\",\"tola\",\"as\"]\n",
    "print(\"Lista przed zmianą:\",lista)\n",
    "lista[1] = \"bolek\"\n",
    "print(\"Lista po zmianie oli na bolka:\",lista)\n",
    "removedLast = lista.pop() #Usunięcie ostatniego (\"as\"-a)\n",
    "print(\"Lista po usunięciu ostatniego:\",lista)\n",
    "removed = lista.pop(1) #Usunięcie bolka\n",
    "print(\"Lista po usunięciu drugiego:\",lista)\n"
   ]
  },
  {
   "cell_type": "code",
   "execution_count": 15,
   "metadata": {},
   "outputs": [
    {
     "name": "stdout",
     "output_type": "stream",
     "text": [
      "imiona: ('Ala', 'Ola', 'Tola')\n",
      "osoba: ('Jan', 'Kowalski', 1975, 58.2)\n",
      "==========================\n",
      "('Polska', 2018, 75.4) 3 Polska\n",
      "==========================\n",
      "jestPolska= True\n",
      "jestGrunwald= False\n",
      "nieMaGrunwald= True\n"
     ]
    }
   ],
   "source": [
    "##Demonstracja tworzenia i przetwarzania krotek (rekordów)\n",
    "\n",
    "#Polecenie usuwa wszystkie zmienne z pamięci \n",
    "%reset -f \n",
    "\n",
    "my_tuple = tuple() #Utworzenie pustej krotki\n",
    "\n",
    "imiona = (\"Ala\",\"Ola\",\"Tola\") #Utworzenie krotki składającej się z trzech elementów tego samego typu\n",
    "print(\"imiona:\",imiona)\n",
    "\n",
    "osoba = (\"Jan\",\"Kowalski\",1975,58.2) #Utworzenie krotki składającej się z elementów różnych typów\n",
    "print(\"osoba:\",osoba)\n",
    "\n",
    "print(\"==========================\")\n",
    "\n",
    "tekst = \"Polska\"\n",
    "rok = 2018\n",
    "waga = 75.4\n",
    "\n",
    "#Utworzenie krotki w oparciu o zmienne\n",
    "zlepek = (tekst,rok,waga)\n",
    "\n",
    "#Wypisanie krotki, długości krotki, wybranego przez indeks elementu krotki\n",
    "print(zlepek,len(zlepek),zlepek[0])\n",
    "\n",
    "print(\"==========================\")\n",
    "\n",
    "#Sprawdzenie czy jest element w krotce\n",
    "jestPolska = \"Polska\" in zlepek\n",
    "print(\"jestPolska=\",jestPolska)\n",
    "\n",
    "jestGrunwald = \"Grunwald\" in zlepek\n",
    "print(\"jestGrunwald=\",jestGrunwald)\n",
    "\n",
    "#Sprawdzenie czy elementu brak w krotce\n",
    "nieMaGrunwald = \"Grunwald\" not in zlepek\n",
    "print(\"nieMaGrunwald=\",nieMaGrunwald)\n",
    "\n",
    "#zlepek[1]=\"ala\" - to nie zadziała, bo nie można podmieniać wartości w krotkach\n"
   ]
  },
  {
   "cell_type": "code",
   "execution_count": 9,
   "metadata": {},
   "outputs": [
    {
     "name": "stdout",
     "output_type": "stream",
     "text": [
      "Wartośc dla klucza KP1= matematyka\n",
      "Lista kluczy: dict_keys(['KP1', 'TMicrosoft', '1410'])\n",
      "Długość listy kluczy: 3\n",
      "   Klucz:  KP1 Wartość: matematyka\n",
      "   Klucz:  TMicrosoft Wartość: Bill Gates\n",
      "   Klucz:  1410 Wartość: Grunwald\n",
      "Lista wartości: dict_values(['matematyka', 'Bill Gates', 'Grunwald'])\n",
      "   v= (0, 'matematyka') matematyka\n",
      "   v= (1, 'Bill Gates') Bill Gates\n",
      "   v= (2, 'Grunwald') Grunwald\n",
      "==========================\n",
      "W słowniku jest klucz 1410 z przypisana wartością Grunwald\n",
      "W słowniku brak klucza 1220\n"
     ]
    }
   ],
   "source": [
    "#Slowniki - służące do przechywywania par: (klucz wartość)\n",
    "\n",
    "#Polecenie usuwa wszystkie zmienne z pamięci \n",
    "%reset -f \n",
    "\n",
    "empty = {} #Utworzenie pustego słownika\n",
    "\n",
    "mydictio = dict() #Inny sposób na utworzenie pustego słownika\n",
    "\n",
    "# dodanie wartości\n",
    "mydictio[\"KP1\"] = \"matematyka\" #KP1 to klucz, \"matematyka\" to wartość\n",
    "\n",
    "# pobranie wartości dla klucza \"KP1\"\n",
    "wartosc = mydictio[\"KP1\"]\n",
    "print(\"Wartośc dla klucza KP1=\",wartosc)\n",
    "\n",
    "# dodanie wartości dla klucza\n",
    "mydictio[\"TMicrosoft\"] = \"Bill Gates\"\n",
    "\n",
    "# dodanie wartości dla klucza\n",
    "mydictio[\"1410\"] = \"Grunwald\"\n",
    "\n",
    "\n",
    "#Operacje na liście kluczy\n",
    "keyList = mydictio.keys() \n",
    "print(\"Lista kluczy:\",keyList)\n",
    "print(\"Długość listy kluczy:\",len(keyList))\n",
    "\n",
    "#Przeglądanie listy kluczy      \n",
    "for k in enumerate(keyList):\n",
    "    key = k[1]\n",
    "    print(\"   Klucz: \",key, \"Wartość:\", mydictio[key])\n",
    "\n",
    "#Operacje na liście wartości\n",
    "valList = mydictio.values() #Lista wartosci\n",
    "print(\"Lista wartości:\",valList)\n",
    "\n",
    "#Przeglądanie listy wartości      \n",
    "for v in enumerate(valList):\n",
    "    print(\"   v=\",v,v[1])\n",
    "\n",
    "print(\"==========================\")\n",
    "\n",
    "#Sprawdzenie, czy klucz jest już w słowniku (z przypisana wartością)\n",
    "\n",
    "key1 = \"1410\"\n",
    "if key1 in mydictio:\n",
    "    print(\"W słowniku jest klucz \"+str(key1)+\" z przypisana wartością \"+str(mydictio[key1]))\n",
    "else:\n",
    "    print(\"W słowniku brak klucza \"+str(key1))\n",
    "\n",
    "    \n",
    "key1 = \"1220\"\n",
    "if key1 in mydictio:\n",
    "    print(\"W słowniku jest klucz \"+str(key1)+\" z przypisana wartością \"+str(mydictio[key1]))\n",
    "else:\n",
    "    print(\"W słowniku brak klucza \"+str(key1))\n",
    "    \n",
    "    \n",
    "\n"
   ]
  },
  {
   "cell_type": "code",
   "execution_count": 8,
   "metadata": {},
   "outputs": [
    {
     "name": "stdout",
     "output_type": "stream",
     "text": [
      "Najczęściej wystąpiło imię: JAKUB  licznik: 7\n"
     ]
    }
   ],
   "source": [
    "#Zastosowanie słownika: Napisz program, który na liście name_list wyznacza imię które naczęściej występuje \n",
    "\n",
    "name_list = [\"JAKUB\",\"JAN\",\"SZYMON\",\"ALEKSANDER\",\"JAKUB\",\"WOJCIECH\",\"SZYMON\",\"JAKUB\", \"KACPER\",\"WOJCIECH\",\"ADAM\",\n",
    "          \"SZYMON\",\"JAKUB\",\"JAN\",\"ADAM\",\"JAKUB\",\"WIKTOR\",\"PIOTR\",\"JAKUB\",\"ANTONI\",\"ADAM\",\"JAKUB\"]\n",
    "\n",
    "\n",
    "#Tworzenie słownika imion    \n",
    "\n",
    "dictio = dict()        \n",
    "\n",
    "for i in range(0,len(name_list)):  #Przeglądanie imion\n",
    "    name = name_list[i]      \n",
    "    if name not in dictio:                    \n",
    "        dictio[name] = 1 #Nowe imię do słownika (na razie występuje 1 raz)\n",
    "    else:                \n",
    "        dictio[name] = dictio[name] + 1 #Aktualizacja liczby wystąpień imienia\n",
    "            \n",
    "\n",
    "#Przeglądanie słownika w celu wyznaczenia najczęstrzego imienia\n",
    "\n",
    "maxCount = 0; maxName = ''\n",
    "for k, v in dictio.items():        \n",
    "    if v>maxCount:\n",
    "        maxName = k\n",
    "        maxCount = v        \n",
    "        \n",
    "print(\"Najczęściej wystąpiło imię:\",maxName,\" licznik:\",maxCount)        \n",
    "        "
   ]
  },
  {
   "cell_type": "code",
   "execution_count": 17,
   "metadata": {},
   "outputs": [
    {
     "name": "stdout",
     "output_type": "stream",
     "text": [
      "Zbiór: {'Ola', 'Tola', 'Ala'}\n",
      "Wielkośc zbioru: 3\n",
      "---------------------\n",
      "   >>> Ola\n",
      "   >>> Tola\n",
      "   >>> Ala\n",
      "---------------------\n",
      "isAla= True\n",
      "isPola= False\n",
      "---------------------\n",
      "Zbiór A: {'b', 'x', 'y', 'a'}\n",
      "Zbiór B: {1, 2, 'x', 'y'}\n",
      "Suma zbiorów: {1, 2, 'a', 'x', 'y', 'b'}\n",
      "Różnica zbiorów: {'b', 'a'}\n",
      "Różnica symetryczna zbiorów: {1, 2, 'a', 'b'}\n",
      "Iloczyn zbiorów: {'x', 'y'}\n",
      "Czy A zawiera się w N: False\n",
      "Zbiór C: {'b', 'a'}\n",
      "Czy C zawiera się w A: True\n"
     ]
    }
   ],
   "source": [
    "#Zbiory i operacje na nich\n",
    "\n",
    "#Polecenie usuwa wszystkie zmienne z pamięci \n",
    "%reset -f \n",
    "\n",
    "myset = set();\n",
    "\n",
    "myset.add(\"Ala\")\n",
    "myset.add(\"Ola\")\n",
    "myset.add(\"Tola\")\n",
    "myset.add(\"Ola\")\n",
    "myset.add(\"Ola\")\n",
    "myset.add(\"Ola\")\n",
    "myset.add(\"Ala\")\n",
    "\n",
    "print(\"Zbiór:\",myset)\n",
    "print(\"Wielkośc zbioru:\",len(myset))\n",
    "\n",
    "print(\"---------------------\")\n",
    "\n",
    "#Wypisanie zbioru (elementy nie powtarzają się)\n",
    "for elem in myset:\n",
    "    print(\"   >>>\",elem)\n",
    "\n",
    "print(\"---------------------\")\n",
    "    \n",
    "isAla = \"Ala\" in myset\n",
    "print(\"isAla=\",isAla)\n",
    "\n",
    "isPola = \"Pola\" in myset\n",
    "print(\"isPola=\",isPola)\n",
    "\n",
    "print(\"---------------------\")\n",
    "\n",
    "setA = {\"a\", \"b\" , \"x\"}\n",
    "setB = {1, 2, \"x\",}\n",
    "\n",
    "#Dodanie elementu \"y\" do obydwu zbiorów\n",
    "setA.add(\"y\")\n",
    "setB.add(\"y\")\n",
    "\n",
    "#Wypisanie obydwu zbiorów\n",
    "print(\"Zbiór A:\",setA)\n",
    "print(\"Zbiór B:\",setB)\n",
    "\n",
    "myunion = setA.union(setB)\n",
    "print(\"Suma zbiorów:\",myunion)\n",
    "\n",
    "\n",
    "mydifference = setA.difference(setB)\n",
    "print(\"Różnica zbiorów:\",mydifference)\n",
    "\n",
    "mysymmetric_difference = setA.symmetric_difference(setB)\n",
    "print(\"Różnica symetryczna zbiorów:\",mysymmetric_difference)\n",
    "\n",
    "myintersection = setA.intersection(setB)\n",
    "print(\"Iloczyn zbiorów:\",myintersection)\n",
    "\n",
    "\n",
    "is_subsetAB = setA.issubset(setB)\n",
    "print(\"Czy A zawiera się w N:\",is_subsetAB)\n",
    "\n",
    "setC = {\"a\", \"b\"}\n",
    "print(\"Zbiór C:\",setC)\n",
    "\n",
    "is_subsetCA = setC.issubset(setA)\n",
    "print(\"Czy C zawiera się w A:\",is_subsetCA)\n",
    "\n"
   ]
  },
  {
   "cell_type": "code",
   "execution_count": 18,
   "metadata": {},
   "outputs": [
    {
     "name": "stdout",
     "output_type": "stream",
     "text": [
      "[{'b', 'd', 'e', 'a', 'c'}]\n"
     ]
    }
   ],
   "source": [
    "#Zadanie 5: Dana jest następująca kolekcja zbiorów:\n",
    "# {a,b,c,d}, {a,b}, {b,a,c}, {b,d}, {d,e}, {a}, {b,e}, {b,d}, {a,c,e}, {a,b,c,d,e}\"\n",
    "#Napisz program, który wyszukuje takie podzbiory z powyższej kolekcji, które są najmniejsze w sensie relacji inkluzji, \n",
    "#tzn. dla każdego z takich podzbiorów nie istnieje w kolekcji inny podzbiór, którego ten podzbiór byłby podzbiorem\n",
    "#właściwym.\n",
    "\n",
    "#Polecenie usuwa wszystkie zmienne z pamięci \n",
    "%reset -f \n",
    "\n",
    "dataset = [{\"a\", \"b\", \"c\", 'd'}, {\"a\", \"b\"}, {\"b\", \"a\", \"c\"}, {\"b\", \"d\"}, {\"d\", \"e\"}, {\"a\"}, {\"b\", \"e\"}, {\"b\", \"d\"}, {\"a\", \"c\", \"e\"}, {\"a\", \"b\", \"c\", \"d\", \"e\"}]\n",
    "\n",
    "def minInclusion(s):\n",
    "    sortedset = sorted(s)\n",
    "    result = []\n",
    "    \n",
    "    for i in range(0, len(sortedset)):\n",
    "        firstsubset = sortedset[i]\n",
    "        isMinimal = True;\n",
    "        \n",
    "        for j in range (i + 1, len(sortedset)):\n",
    "            second = sortedset[j]\n",
    "            \n",
    "            if firstsubset.issubset(second):\n",
    "                isMinimal = False;\n",
    "                break;\n",
    "\n",
    "        if isMinimal:\n",
    "            result.append(firstsubset)\n",
    "    return sorted(result)\n",
    "\n",
    "print(minInclusion(dataset))\n"
   ]
  },
  {
   "cell_type": "markdown",
   "metadata": {},
   "source": [
    "# Pliki tekstowe"
   ]
  },
  {
   "cell_type": "code",
   "execution_count": 21,
   "metadata": {},
   "outputs": [
    {
     "name": "stdout",
     "output_type": "stream",
     "text": [
      "Odczytałem:  Ala 16 40\n",
      "Odczytałem:  Tola 18 38\n",
      "Odczytałem:  Bolek 19 55\n"
     ]
    }
   ],
   "source": [
    "#Polecenie usuwa wszystkie zmienne z pamięci \n",
    "%reset -f \n",
    "\n",
    "\n",
    "#Demonstracja zapisu do pliku tekstowego\n",
    "def saveTextFile(fileName):        \n",
    "    try:\n",
    "        file = open(fileName, 'w') #Otwarcie pliku do zapisu        \n",
    "        #Zapis trzech wierszy do pliku\n",
    "        file.write(\"Ala,\"+str(16)+\",\"+str(40)+\"\\n\")        \n",
    "        file.write(\"Tola,\"+str(18)+\",\"+str(38)+\"\\n\")        \n",
    "        file.write(\"Bolek,\"+str(19)+\",\"+str(55)+\"\\n\")        \n",
    "        file.close()  \n",
    "        return True           \n",
    "    except Exception as excep:\n",
    "        print(\"Błąd zapisu pliku: \"+str(fileName))\n",
    "        print(\"Powód błędu: \"+str(excep))    \n",
    "        return False           \n",
    "\n",
    "#Demonstracja odczytu z pliku tekstowego\n",
    "def loadTextFile(fileName):  \n",
    "    try:\n",
    "        file = open(fileName,'r') #Otwarcie pliku do odczytu                   \n",
    "        #Odczyt wierszy z pliku           \n",
    "        for line in file:                \n",
    "            text = line.strip()\n",
    "            tokens = text.split(\",\") #Podział na tokeny\n",
    "            name = tokens[0]; \n",
    "            age = tokens[1];\n",
    "            weight = tokens[2];\n",
    "            print(\"Odczytałem: \",name,age,weight)                                                         \n",
    "        file.close()\n",
    "        return True           \n",
    "    except Exception as excep:\n",
    "        print(\"Błąd odczytu pliku: \"+str(fileName))\n",
    "        print(\"Powód błędu: \"+str(excep))\n",
    "        return True                     \n",
    "        \n",
    "####################################################################\n",
    "            \n",
    "\n",
    "    \n",
    "    \n",
    "fileName = \"./dane/osoby.txt\"    \n",
    "\n",
    "result = saveTextFile(fileName) #Zapis do pliku tekstowego\n",
    "\n",
    "if result:\n",
    "    loadTextFile(fileName) #Odczyt z pliku tekstowego\n",
    "\n",
    "\n",
    "                   \n",
    "                       \n",
    "     "
   ]
  },
  {
   "cell_type": "markdown",
   "metadata": {},
   "source": [
    "# SORTOWANIE"
   ]
  },
  {
   "cell_type": "code",
   "execution_count": 19,
   "metadata": {},
   "outputs": [
    {
     "name": "stdout",
     "output_type": "stream",
     "text": [
      "Przed sortowaniem rosnącym: ['Zuzia', 'Alicja', 'Blanka', 'Ola', 'Monika', 'Tola', 'Ania', 'Lenka']\n",
      "Po sortowaniu rosnącym: ['Alicja', 'Ania', 'Blanka', 'Lenka', 'Monika', 'Ola', 'Tola', 'Zuzia']\n",
      "---------------------\n",
      "Przed sortowaniem malejącym: ['Zuzia', 'Alicja', 'Blanka', 'Ola', 'Monika', 'Tola', 'Ania', 'Lenka']\n",
      "Po sortowaniu malejącym: ['Zuzia', 'Tola', 'Ola', 'Monika', 'Lenka', 'Blanka', 'Ania', 'Alicja']\n",
      "---------------------\n",
      "Przed sortowaniem rosnącym względem długości nazwy: ['Ford', 'Mitsubishi', 'BMW', 'VW']\n",
      "Po sortowaniu: ['VW', 'BMW', 'Ford', 'Mitsubishi']\n",
      "---------------------\n",
      "Przed sortowaniem: [('Ala', 1), ('Ola', 3), ('Tola', 7), ('Bolek', 2), ('Lolek', 4)]\n",
      "Po sortowaniu: [('Tola', 7), ('Lolek', 4), ('Ola', 3), ('Bolek', 2), ('Ala', 1)]\n"
     ]
    }
   ],
   "source": [
    "#Sortowanie stringow\n",
    "\n",
    "#Polecenie usuwa wszystkie zmienne z pamięci \n",
    "%reset -f \n",
    "\n",
    "#Sortowanie rosnące\n",
    "names = ['Zuzia','Alicja','Blanka','Ola','Monika','Tola','Ania','Lenka']\n",
    "print(\"Przed sortowaniem rosnącym:\",names)\n",
    "names.sort()\n",
    "print(\"Po sortowaniu rosnącym:\",names)\n",
    "      \n",
    "print(\"---------------------\")\n",
    "\n",
    "names2 = ['Zuzia','Alicja','Blanka','Ola','Monika','Tola','Ania','Lenka']\n",
    "print(\"Przed sortowaniem malejącym:\",names2)\n",
    "names2.sort(reverse=True)\n",
    "names.sort()\n",
    "print(\"Po sortowaniu malejącym:\",names2)\n",
    "\n",
    "print(\"---------------------\")\n",
    "\n",
    "def myComparator(e):\n",
    "    return len(e)\n",
    "\n",
    "cars = ['Ford', 'Mitsubishi', 'BMW', 'VW']\n",
    "print(\"Przed sortowaniem rosnącym względem długości nazwy:\",cars)\n",
    "cars.sort(reverse=False, key=myComparator)\n",
    "print(\"Po sortowaniu:\",cars)\n",
    "\n",
    "print(\"---------------------\")\n",
    "\n",
    "personList = [(\"Ala\",1),(\"Ola\",3),(\"Tola\",7),(\"Bolek\",2),(\"Lolek\",4)]\n",
    "\n",
    "def myPersonComparator(pair):    \n",
    "    return pair[1] #Badamy drugi parametr (krotność)\n",
    "\n",
    "print(\"Przed sortowaniem:\",personList)\n",
    "personList.sort(reverse=True,key=myPersonComparator) #Sortowanie wzgledem krotności\n",
    "print(\"Po sortowaniu:\",personList)\n",
    "\n"
   ]
  },
  {
   "cell_type": "code",
   "execution_count": 20,
   "metadata": {},
   "outputs": [
    {
     "name": "stdout",
     "output_type": "stream",
     "text": [
      "[1, 4, 2, 5, 3, 4]\n",
      "[5, 4, 4, 3, 2, 1]\n",
      "---------------------\n",
      "[1.011, 99.89, 22.33, 5, 3, 4]\n",
      "[1.011, 3, 4, 5, 22.33, 99.89]\n"
     ]
    }
   ],
   "source": [
    "#Sortowanie liczb\n",
    "\n",
    "#Polecenie usuwa wszystkie zmienne z pamięci \n",
    "%reset -f \n",
    "\n",
    "#Malejąco\n",
    "liczby1 = [1, 4, 2, 5, 3, 4]\n",
    "print(liczby1)\n",
    "liczby1.sort(reverse=True)\n",
    "print(liczby1)\n",
    "\n",
    "print(\"---------------------\")\n",
    "\n",
    "#Rosnąco\n",
    "liczby2 = [1.011, 99.89, 22.33, 5, 3, 4]\n",
    "print(liczby2)\n",
    "liczby2.sort(reverse=False)\n",
    "print(liczby2)\n"
   ]
  },
  {
   "cell_type": "code",
   "execution_count": 21,
   "metadata": {},
   "outputs": [
    {
     "name": "stdout",
     "output_type": "stream",
     "text": [
      "1 Tola\n",
      "2 Ala\n",
      "3 Pola\n",
      "--------------------------------------\n",
      "1 Tola\n",
      "3 Pola\n",
      "2 Ala\n"
     ]
    }
   ],
   "source": [
    "#Sortowanie obiektow \n",
    "\n",
    "#Polecenie usuwa wszystkie zmienne z pamięci \n",
    "%reset -f \n",
    "\n",
    "class Para:\n",
    "\n",
    "    def __init__(self,id,text):\n",
    "        self.id = id\n",
    "        self.text = text\n",
    "\n",
    "    def getID(self):\n",
    "        return id\n",
    "    \n",
    "    def getText(self):\n",
    "        return text\n",
    "    \n",
    "#=====================================\n",
    "\n",
    "\n",
    "p1 = Para(1,\"Tola\")\n",
    "p2 = Para(2,\"Ala\")\n",
    "p3 = Para(3,\"Pola\")\n",
    "\n",
    "\n",
    "lista = []\n",
    "\n",
    "lista.append(p1)\n",
    "lista.append(p2)\n",
    "lista.append(p3)\n",
    "\n",
    "for a in lista: print(a.id,a.text)\n",
    "\n",
    "print(\"--------------------------------------\")    \n",
    "   \n",
    "    \n",
    "def myComparator(a):\n",
    "    return a.text #Wględem tekstu\n",
    "\n",
    "#Malejąco\n",
    "lista.sort(reverse=True, key=myComparator)\n",
    "\n",
    "for a in lista: print(a.id,a.text)\n"
   ]
  },
  {
   "cell_type": "markdown",
   "metadata": {},
   "source": [
    "# PROGRAMOWANIE ORIENTOWANE OBIEKTOWO"
   ]
  },
  {
   "cell_type": "code",
   "execution_count": 22,
   "metadata": {},
   "outputs": [
    {
     "name": "stdout",
     "output_type": "stream",
     "text": [
      "200\n",
      "400\n"
     ]
    }
   ],
   "source": [
    "#Tworzenie klasy, której obiekty reprezentuja prostokąty\n",
    "\n",
    "#Polecenie usuwa wszystkie zmienne z pamięci \n",
    "%reset -f \n",
    "\n",
    "\n",
    "class Rectangle():\n",
    "    \n",
    "    def __init__(self, w, l):   #Konstruktor z dwoma parametrami (wymiary prostokąta)\n",
    "        self.width = w          #Dwa pola ustawiane w konstruktorze\n",
    "        self.length = l\n",
    "\n",
    "    def area(self):                        #Metoda licząca pole prostokata\n",
    "        return self.width * self.length\n",
    "\n",
    "    def change_size(self, w, l):           #Metoda zmieniająca wymiary prostokąta\n",
    "        self.width = w\n",
    "        self.len = l\n",
    "\n",
    "        \n",
    "rectangle = Rectangle(10, 20)  #Utworzenie obiektu prostokąta\n",
    "\n",
    "print(rectangle.area())        #Wyliczenie i wypisanie pola prostokąta\n",
    "\n",
    "rectangle.change_size(20, 40)  #Zmiana wymiarów prostokąta\n",
    "\n",
    "print(rectangle.area())        #Wyliczenie i wypisanie pola prostokąta po zmianie wymiarów\n"
   ]
  },
  {
   "cell_type": "code",
   "execution_count": 23,
   "metadata": {},
   "outputs": [
    {
     "name": "stdout",
     "output_type": "stream",
     "text": [
      "matiW\n"
     ]
    }
   ],
   "source": [
    "#Implementacja stosu\n",
    "\n",
    "#Polecenie usuwa wszystkie zmienne z pamięci \n",
    "%reset -f \n",
    "\n",
    "class Stack:\n",
    "    def __init__(self):\n",
    "        self.items = []\n",
    "\n",
    "    def is_empty(self):\n",
    "        return self.items == []\n",
    "\n",
    "    def push(self, item):\n",
    "        self.items.append(item)\n",
    "\n",
    "    def pop(self):\n",
    "        return self.items.pop() #pobranie elementu\n",
    "\n",
    "    def peek(self):\n",
    "        last = len(self.items)-1\n",
    "        return self.items[last]\n",
    "\n",
    "    def size(self):\n",
    "        return len(self.items)\n",
    "\n",
    "\n",
    "stack = Stack() #Tworzymy pusty stos\n",
    "\n",
    "#Wstawiamy na stos znaki\n",
    "for c in \"Witam\":\n",
    "    stack.push(c)\n",
    "\n",
    "#Odwracamy napis za pomocą stosu\n",
    "reversed_text = \"\"\n",
    "for i in range(stack.size()):\n",
    "    reversed_text = reversed_text + stack.pop()\n",
    "    \n",
    "print(reversed_text) #Wypisanie odwróconego tekstu\n"
   ]
  },
  {
   "cell_type": "code",
   "execution_count": 1,
   "metadata": {},
   "outputs": [
    {
     "name": "stdout",
     "output_type": "stream",
     "text": [
      "Styczeń\n",
      "Luty\n",
      "Marzec\n",
      "Kwiecień\n",
      "Maj\n",
      "Czerwiec\n",
      "Lipiec\n",
      "Sierpień\n",
      "Wrzesień\n",
      "Październik\n",
      "Listopad\n",
      "Grudzień\n"
     ]
    }
   ],
   "source": [
    "#Zadanie 6: Wykonać implementację kolejki i wykorzystać ją do wydruku 12 nazw miesięcy (najpierw nazwy miesięcy \n",
    "#wstawiamy do kolejki, a poźniej pobieramy je z kolejki oraz drukujemy je na ekranie).\n",
    "\n",
    "class Queue:\n",
    "    def __init__(self):\n",
    "        self.items = []\n",
    "        \n",
    "    def que(self, item):\n",
    "        self.items.append(item)\n",
    "    \n",
    "    def pop(self):\n",
    "        if(len(self.items) == 0):\n",
    "            return \n",
    "        \n",
    "        item = self.items[0]\n",
    "        self.items = self.items[1:]\n",
    "        return item\n",
    "    \n",
    "queue = Queue()\n",
    "months = [\"Styczeń\", \"Luty\", \"Marzec\", \"Kwiecień\", \"Maj\", \"Czerwiec\", \"Lipiec\", \"Sierpień\", \"Wrzesień\", \"Październik\", \"Listopad\", \"Grudzień\"]\n",
    "for i in range(0, len(months)):\n",
    "    queue.que(months[i])\n",
    "    \n",
    "month = queue.pop()\n",
    "while month:\n",
    "    print(month)\n",
    "    month = queue.pop()\n",
    "        \n"
   ]
  },
  {
   "cell_type": "code",
   "execution_count": 22,
   "metadata": {},
   "outputs": [
    {
     "name": "stdout",
     "output_type": "stream",
     "text": [
      "Ala,12\n",
      "Ola,15\n",
      "Tola,14\n",
      "-------------------------\n",
      "Ala,12\n",
      "Ola,15\n",
      "Tola,14\n"
     ]
    }
   ],
   "source": [
    "#Tablica dynamiczna osób z zapisem na dysk i odczytem z dysku\n",
    "\n",
    "#Polecenie usuwa wszystkie zmienne z pamięci \n",
    "%reset -f \n",
    "\n",
    "import string, sys\n",
    "\n",
    "class Person:\n",
    "    def __init__(self,name,age):\n",
    "        self.name = name\n",
    "        self.age = age\n",
    "\n",
    "    def toString(self):\n",
    "        return self.name + \",\" + str(self.age)\n",
    "    \n",
    "\n",
    "class PersonList:\n",
    "    def __init__(self):\n",
    "        self.items = []\n",
    "\n",
    "    def is_empty(self):\n",
    "        return self.items == []\n",
    "\n",
    "    def add(self, item):\n",
    "        self.items.append(item)\n",
    "\n",
    "    def removeLast(self):\n",
    "        return self.items.pop() \n",
    "    \n",
    "    def remove(self,index):\n",
    "        return self.items.pop(index)\n",
    "\n",
    "    def get(self,index):        \n",
    "        return self.items[index]\n",
    "\n",
    "    def size(self):\n",
    "        return len(self.items)\n",
    "    \n",
    "    def show(self):\n",
    "        for i in range(0,self.size()):\n",
    "            elem = self.get(i)\n",
    "            print(elem.toString())\n",
    "            \n",
    "    def save(self,fileName):        \n",
    "        try:\n",
    "            plik = open(fileName, 'w')\n",
    "            for i in range(0,self.size()):\n",
    "                elem = self.get(i)\n",
    "                plik.write(elem.toString()+\"\\n\")            \n",
    "            plik.close()            \n",
    "        except Exception as excep:\n",
    "            print(\"Błąd zapisu pliku:\"+str(fileName))\n",
    "            print(\"Powód błędu:\"+str(excep))    \n",
    "        \n",
    "    def load(self,fileName):  \n",
    "        try:\n",
    "            plik = open(fileName,'r')\n",
    "            for line in plik:                \n",
    "                text = line.strip()\n",
    "                tokens = text.split(\",\")\n",
    "                name = tokens[0]; sage = tokens[1];\n",
    "                person = Person(name,int(sage))\n",
    "                self.add(person)\n",
    "            plik.close()   \n",
    "        except Exception as excep:\n",
    "            print(\"Błąd odczytu pliku:\"+str(fileName))\n",
    "            print(\"Powód błędu:\"+str(excep))\n",
    "            \n",
    "        \n",
    "####################################################################\n",
    "            \n",
    "\n",
    "list1 = PersonList()\n",
    "\n",
    "list1.add(Person(\"Ala\",12))\n",
    "list1.add(Person(\"Ola\",15))\n",
    "list1.add(Person(\"Tola\",14))\n",
    "\n",
    "list1.show()\n",
    "\n",
    "list1.save(\"./dane/OSOBY2.txt\") #Zapis do głownego katalogu Jupytera\n",
    "\n",
    "print(\"-------------------------\")\n",
    "\n",
    "list2 = PersonList()\n",
    "\n",
    "list2.load(\"./dane/OSOBY2.txt\")\n",
    "\n",
    "list2.show()\n"
   ]
  },
  {
   "cell_type": "code",
   "execution_count": 25,
   "metadata": {},
   "outputs": [
    {
     "name": "stdout",
     "output_type": "stream",
     "text": [
      "countAla= 3\n",
      "key=Tola value=Tola[1]\n",
      "key=Ala value=Ala[3]\n",
      "key=Ola value=Ola[2]\n"
     ]
    }
   ],
   "source": [
    "#Słownik osob z licznikiem\n",
    "\n",
    "#Polecenie usuwa wszystkie zmienne z pamięci \n",
    "%reset -f \n",
    "\n",
    "class PersonInfo:\n",
    "    def __init__(self,name):\n",
    "        self.name = name        \n",
    "        self.count = 1\n",
    "    \n",
    "    def update(self):\n",
    "        self.count = self.count + 1\n",
    "        \n",
    "    def getCount(self):\n",
    "        return self.count\n",
    "    \n",
    "    def toString(self):\n",
    "        return self.name + \"[\" + str(self.count) + \"]\"\n",
    "    \n",
    "\n",
    "class PersonDictio:\n",
    "    def __init__(self):        \n",
    "        self.dictio = {}\n",
    "        \n",
    "            \n",
    "    def put(self, value):\n",
    "        key = value\n",
    "        if key in self.dictio:\n",
    "            self.dictio[key].update()            \n",
    "        else:            \n",
    "            self.dictio[key] = PersonInfo(value)\n",
    "        \n",
    "        \n",
    "    def getCount(self, key):\n",
    "        return self.dictio[key].getCount()\n",
    "     \n",
    "    def show(self):\n",
    "        for key, value in self.dictio.items():\n",
    "            print(\"key=\"+str(key),\"value=\"+str(value.toString()))       \n",
    "    \n",
    "    \n",
    "        \n",
    "        \n",
    "myDictio = PersonDictio()       \n",
    "\n",
    "myDictio.put(\"Tola\")\n",
    "myDictio.put(\"Ala\")\n",
    "myDictio.put(\"Ola\")\n",
    "myDictio.put(\"Ala\")\n",
    "myDictio.put(\"Ola\")\n",
    "myDictio.put(\"Ala\")\n",
    "\n",
    "\n",
    "countAla = myDictio.getCount(\"Ala\")\n",
    "print(\"countAla=\",countAla)\n",
    "\n",
    "myDictio.show()\n"
   ]
  },
  {
   "cell_type": "code",
   "execution_count": 33,
   "metadata": {},
   "outputs": [
    {
     "name": "stdout",
     "output_type": "stream",
     "text": [
      "ANTONI 13\n",
      "JAKUB 15\n",
      "JAN 11\n",
      "SZYMON 9\n",
      "ALEKSANDER 14\n",
      "FRANCISZEK 5\n",
      "FILIP 12\n",
      "MIKOŁAJ 11\n",
      "WOJCIECH 6\n",
      "ZUZANNA 45\n",
      "JULIA 31\n",
      "MAJA 35\n",
      "ZOFIA 10\n",
      "HANNA 15\n",
      "LENA 20\n",
      "KACPER 6\n",
      "ADAM 9\n",
      "MARCEL 9\n",
      "STANISŁAW 6\n",
      "MICHAŁ 8\n",
      "WIKTOR 6\n",
      "LEON 2\n",
      "PIOTR 4\n",
      "ALICJA 2\n",
      "MARIA 4\n",
      "AMELIA 10\n",
      "OLIWIA 8\n",
      "ALEKSANDRA 6\n",
      "WIKTORIA 8\n"
     ]
    }
   ],
   "source": [
    "#Zadanie 7 i 8: W pliku tekstowym imiona.txt jest lista imion wraz z krotnością ich występowania w danej zbiorowości. \n",
    "#Napisać program, który wczytuje dane z pliku i wylicza ile razy w sumie wystąpiło każde imię i wypisuje te \n",
    "#informacje w kolejności od naczęściej wystepujących do najrzadziej. Krotności występowania dla danego imienia \n",
    "#w różnych wierszach mają być oczywiście sumowane.\n",
    "#Zadanie rozwiązać w dwóch wersjach:\n",
    "#1. z wykorzystaniem listy,\n",
    "#2. z wykorzystaniem słownika.\n",
    "\n",
    "class Counter():\n",
    "    def __init__(self, key, value):\n",
    "        self.key = key\n",
    "        self.value = value\n",
    "        \n",
    "    def add_count(self, value):\n",
    "        self.value += value\n",
    "        \n",
    "class List():\n",
    "    def __init__(self):\n",
    "        self.list = []\n",
    "    \n",
    "    def add_count(self, key, value):\n",
    "        record = None\n",
    "        for counter in self.list:\n",
    "            if counter.key == key:\n",
    "                record = counter\n",
    "                break\n",
    "        \n",
    "        if record:\n",
    "            record.add_count(value)\n",
    "        else:\n",
    "           self.list.append(Counter(key, value)) \n",
    "            \n",
    "    def print_list(self):\n",
    "        for i in self.list:\n",
    "            print(i.key, i.value)\n",
    "            \n",
    "class Dictionary():\n",
    "    def __init__(self):\n",
    "        self.dictionary = {}\n",
    "    \n",
    "    def add_count(self, key, value):\n",
    "        if key in self.dictionary:\n",
    "            self.dictionary[key] += value\n",
    "        else:\n",
    "            self.dictionary[key] = value\n",
    "            \n",
    "    def print_list(self):\n",
    "        for i in self.dictionary:\n",
    "            print(i, self.dictionary[i])\n",
    "            \n",
    "def read_from_file(data):\n",
    "    counter = Dictionary()\n",
    "\n",
    "    line = True\n",
    "    while line:\n",
    "        line = data.readline().replace(\"\\n\", \"\")\n",
    "\n",
    "        if line == \"\":\n",
    "            continue\n",
    "        \n",
    "        name, count = line.split(\" \")[:2]\n",
    "        count = int(count)\n",
    "\n",
    "        counter.add_count(name, count)   \n",
    "\n",
    "    counter.print_list()\n",
    "        \n",
    "file = open(\"./dane/imiona.txt\", \"r\")\n",
    "read_from_file(file)"
   ]
  },
  {
   "cell_type": "markdown",
   "metadata": {},
   "source": [
    "# Wizualizacje"
   ]
  },
  {
   "cell_type": "code",
   "execution_count": 4,
   "metadata": {},
   "outputs": [
    {
     "data": {
      "image/png": "[encoded data removed]",
      "text/plain": [
       "<Figure size 720x576 with 1 Axes>"
      ]
     },
     "metadata": {
      "needs_background": "light"
     },
     "output_type": "display_data"
    }
   ],
   "source": [
    "#Wykres liniowy\n",
    "\n",
    "#Polecenie usuwa wszystkie zmienne z pamięci \n",
    "%reset -f \n",
    "\n",
    "import matplotlib.pyplot as plt; \n",
    "import numpy as np\n",
    "%matplotlib inline\n",
    "\n",
    "#Generowanie argumentów (od 0 do 1 z krokiem 0.01)\n",
    "x = np.arange(0.0, 4.0, 0.01)\n",
    "\n",
    "#Generowanie wartości funkcji\n",
    "y = 1 + np.sin(2 * np.pi * x)\n",
    "\n",
    "plt.figure(figsize=(10, 8)) #Rozmiary okna z wykresem\n",
    "plt.plot(x,y,c=\"blue\")\n",
    "plt.xlabel(\"Oś X\")\n",
    "plt.ylabel(\"Oś Y\")\n",
    "plt.title('Wykres funkcji')\n",
    "plt.grid() #Dodanie siatki\n",
    "plt.show()\n",
    "\n"
   ]
  },
  {
   "cell_type": "code",
   "execution_count": 2,
   "metadata": {},
   "outputs": [
    {
     "data": {
      "image/png": "[encoded data removed]",
      "text/plain": [
       "<Figure size 720x576 with 1 Axes>"
      ]
     },
     "metadata": {
      "needs_background": "light"
     },
     "output_type": "display_data"
    }
   ],
   "source": [
    "#Wykres liniowy kilku funkcji\n",
    "\n",
    "#Polecenie usuwa wszystkie zmienne z pamięci \n",
    "%reset -f \n",
    "\n",
    "import matplotlib.pyplot as plt; \n",
    "import numpy as np\n",
    "%matplotlib inline\n",
    "\n",
    "\n",
    "#Generowanie argumentów (od 0 do 1 z krokiem 0.005)\n",
    "x = np.arange(0.0, 1.0, 0.01)\n",
    "\n",
    "#Generowanie wartości funkcji\n",
    "y1 = 1 + np.sin(2 * np.pi * x)\n",
    "y2 = 1 + np.sin(3 * np.pi * x)\n",
    "y3 = 1 + np.sin(4 * np.pi * x)\n",
    "\n",
    "plt.figure(figsize=(10, 8)) #Rozmiary okna z wykresem\n",
    "plt.plot(x,y1,'black',x,y2,'r:',x,y3,'g+') #Czerwona linia kropkowana, zielona linia ciągła\n",
    "plt.legend(('Funkcja y1','Funkcja y2','Funkcja y3'))\n",
    "\n",
    "\n",
    "\n",
    "plt.grid() #Dodanie siatki\n",
    "\n",
    "plt.show()"
   ]
  },
  {
   "cell_type": "code",
   "execution_count": 7,
   "metadata": {},
   "outputs": [
    {
     "data": {
      "image/png": "[encoded data removed]",
      "text/plain": [
       "<Figure size 720x576 with 1 Axes>"
      ]
     },
     "metadata": {
      "needs_background": "light"
     },
     "output_type": "display_data"
    }
   ],
   "source": [
    "#Zadanie 9: Rozwiązać rysunkowo problem wyznaczenia punktu przecięcia funkcji f1(x)=x^2+2x+2 oraz f2(x)=2/(x-1)\n",
    "\n",
    "%reset -f \n",
    "\n",
    "import matplotlib.pyplot as plt; \n",
    "import numpy as np\n",
    "import math\n",
    "from shapely.geometry import LineString\n",
    "%matplotlib inline\n",
    "\n",
    "x1 = np.arange(-10.0, 10.0, 0.01)\n",
    "x2 = np.arange(-10.0, 0.99, 0.01)\n",
    "x3 = np.arange(1.01, 10.0, 0.01)\n",
    "y1 = x1 * x1 + 2 * x1 + 2\n",
    "y2 = 2 / (x2 - 1)\n",
    "y3 = 2 / (x3 - 1)\n",
    "\n",
    "plt.figure(figsize=(10,8))\n",
    "plt.plot(x1,y1,'black', x2,y2,'yellow', x3,y3,'yellow')\n",
    "plt.legend((\"Funkcja F1\", \"Funkcja F2\"))\n",
    "\n",
    "line_1 = LineString(np.column_stack((x1,y1)))\n",
    "line_2 = LineString(np.column_stack((x2,y2)))\n",
    "line_3 = LineString(np.column_stack((x3,y3)))\n",
    "\n",
    "inter_1 = line_1.intersection(line_2)\n",
    "inter_2 = line_1.intersection(line_3)\n",
    "plt.plot(*inter_1.xy, 'ro')\n",
    "plt.plot(*inter_2.xy, 'ro')\n",
    "\n",
    "plt.show()\n",
    "\n"
   ]
  },
  {
   "cell_type": "code",
   "execution_count": 3,
   "metadata": {},
   "outputs": [
    {
     "data": {
      "image/png": "[encoded data removed]",
      "text/plain": [
       "<Figure size 720x576 with 3 Axes>"
      ]
     },
     "metadata": {
      "needs_background": "light"
     },
     "output_type": "display_data"
    }
   ],
   "source": [
    "#Kilka wykresów liniowych\n",
    "\n",
    "#Polecenie usuwa wszystkie zmienne z pamięci \n",
    "%reset -f \n",
    "\n",
    "\n",
    "import matplotlib.pyplot as plt; \n",
    "%matplotlib inline\n",
    "import numpy as np\n",
    "\n",
    "\n",
    "#Generowanie argumentów (od 0 do 1 z krokiem 0.005)\n",
    "x = np.arange(0.0, 1.0, 0.01)\n",
    "\n",
    "#Generowanie wartości funkcji\n",
    "y1 = 1 + np.sin(2 * np.pi * x)\n",
    "y2 = 1 + np.sin(3 * np.pi * x)\n",
    "y3 = 1 + np.sin(4 * np.pi * x)\n",
    "\n",
    "\n",
    "plt.figure(figsize=(10, 8)) #Rozmiary okna z wykresem\n",
    "plt.subplot(3,1,1)\n",
    "plt.plot(x, y1, 'r')\n",
    "plt.grid(True)\n",
    "\n",
    "plt.subplot(3,1,2)\n",
    "plt.plot(x, y2, 'g')\n",
    "plt.grid(True)\n",
    "\n",
    "plt.subplot(3,1,3)\n",
    "plt.plot(x, y3, 'b')\n",
    "plt.grid(True)\n",
    "\n",
    "plt.show()\n"
   ]
  },
  {
   "cell_type": "code",
   "execution_count": 7,
   "metadata": {},
   "outputs": [
    {
     "data": {
      "image/png": "[encoded data removed]",
      "text/plain": [
       "<Figure size 720x576 with 1 Axes>"
      ]
     },
     "metadata": {
      "needs_background": "light"
     },
     "output_type": "display_data"
    }
   ],
   "source": [
    "#Rysowanie lini łamanej\n",
    "\n",
    "#Polecenie usuwa wszystkie zmienne z pamięci \n",
    "%reset -f \n",
    "\n",
    "import matplotlib.pyplot as plt; \n",
    "import numpy as np\n",
    "%matplotlib inline\n",
    "\n",
    "plt.figure(figsize=(10, 8)) #Rozmiary okna z wykresem\n",
    "plt.plot([1, 3, 5, 6], [3, 1, 9, 7])\n",
    "plt.xlabel(\"Oś X\")\n",
    "plt.ylabel(\"Oś Y\")\n",
    "\n",
    "plt.grid() #Dodanie siatki\n",
    "\n",
    "plt.show()\n",
    "\n"
   ]
  },
  {
   "cell_type": "code",
   "execution_count": 2,
   "metadata": {},
   "outputs": [
    {
     "data": {
      "image/png": "[encoded data removed]",
      "text/plain": [
       "<Figure size 720x576 with 1 Axes>"
      ]
     },
     "metadata": {
      "needs_background": "light"
     },
     "output_type": "display_data"
    }
   ],
   "source": [
    "#Wykres punktowy z jednolitych punktów\n",
    "\n",
    "#Polecenie usuwa wszystkie zmienne z pamięci \n",
    "%reset -f \n",
    "\n",
    "import matplotlib.pyplot as plt; \n",
    "import numpy as np\n",
    "%matplotlib inline\n",
    "\n",
    "liczba_znajomych = [ 70, 65, 72, 63, 71, 64, 60, 64, 67]\n",
    "czas_na_stronie = [175, 170, 205, 120, 220, 130, 10, 5, 145]\n",
    "\n",
    "plt.figure(figsize=(10, 8)) #Rozmiary okna z wykresem\n",
    "plt.plot(liczba_znajomych,czas_na_stronie, 'ro') #Czerwone kółka\n",
    "plt.axis([55, 75, 100, 250]) #Zakresy na osiach\n",
    "\n",
    "plt.title(\"Czas spedzony na stronie a liczba znajomych\")\n",
    "plt.xlabel(\"Liczba znajomych\")\n",
    "plt.ylabel(\"Dzienny czas spedzony na stronie (minuty)\")\n",
    "\n",
    "plt.show()"
   ]
  },
  {
   "cell_type": "code",
   "execution_count": 18,
   "metadata": {},
   "outputs": [
    {
     "data": {
      "image/png": "[encoded data removed]",
      "text/plain": [
       "<Figure size 720x576 with 1 Axes>"
      ]
     },
     "metadata": {
      "needs_background": "light"
     },
     "output_type": "display_data"
    }
   ],
   "source": [
    "#Zadanie 10: Wykonać wykres punktowy ludności Polski na przestrzeni wieków.\n",
    "#\n",
    "#Dane do wykresu na stronie: https://pl.wikipedia.org/wiki/Ludno%C5%9B%C4%87_Polski\n",
    "        \n",
    "%reset -f \n",
    "\n",
    "import matplotlib.pyplot as plt; \n",
    "import numpy as np\n",
    "%matplotlib inline\n",
    "\n",
    "rok = [1000, 1370, 1634, 1800, 1846, 1911, 1921, 1938, 1946, 1970, 1988, 2000, 2005, 2010, 2021]\n",
    "ludnosc = [1500000, 2000000, 11000000, 9000000, 11000000, 22000000, 27000000, 34849000, 23930000, 32642000, 37880000, 38654000, 38191000, 38530000, 38100000]\n",
    "    \n",
    "plt.figure(figsize=(10, 8))\n",
    "plt.plot(rok, ludnosc, 'ro')\n",
    "plt.xlim(990, 2030)\n",
    "plt.ylim(1000000,40000000)\n",
    "\n",
    "plt.title(\"Liczba ludnosc na przstrzeni wiekow\")\n",
    "plt.xlabel(\"Rok\")\n",
    "plt.ylabel(\"Ludnosc\")\n",
    "\n",
    "plt.show()\n",
    "    "
   ]
  },
  {
   "cell_type": "code",
   "execution_count": 10,
   "metadata": {},
   "outputs": [
    {
     "data": {
      "image/png": "[encoded data removed]",
      "text/plain": [
       "<Figure size 720x576 with 1 Axes>"
      ]
     },
     "metadata": {
      "needs_background": "light"
     },
     "output_type": "display_data"
    }
   ],
   "source": [
    "#Wykres punktowy z różnego rodzaju punktów\n",
    "\n",
    "#Polecenie usuwa wszystkie zmienne z pamięci \n",
    "%reset -f \n",
    "\n",
    "import matplotlib.pyplot as plt; \n",
    "import numpy as np\n",
    "%matplotlib inline\n",
    "\n",
    "\n",
    "x  = [1,2,3,4,5,6]\n",
    "y1 = [3,1,3,7,6,5]\n",
    "y2 = [2,5,5,6,5,2]\n",
    "y3 = [1,3,6,9,7,3]\n",
    "\n",
    "\n",
    "# red dashes, blue squares and green triangles\n",
    "\n",
    "plt.figure(figsize=(10, 8)) #Rozmiary okna z wykresem\n",
    "plt.plot(x, y1, 'ro', x, y2, 'bs', x, y3, 'g^')\n",
    "\n",
    "plt.axis([0, 7, 0, 10]) #Zakresy na osiach\n",
    "\n",
    "plt.title(\"Wykres punktowy z różnych rodzajów punktów\")\n",
    "\n",
    "plt.xlabel(\"Oś X\")\n",
    "plt.ylabel(\"Oś Y\")\n",
    "\n",
    "plt.show()"
   ]
  },
  {
   "cell_type": "code",
   "execution_count": 9,
   "metadata": {},
   "outputs": [
    {
     "data": {
      "image/png": "[encoded data removed]",
      "text/plain": [
       "<Figure size 720x576 with 1 Axes>"
      ]
     },
     "metadata": {
      "needs_background": "light"
     },
     "output_type": "display_data"
    }
   ],
   "source": [
    "#Zadanie 11: Wykonać wykres punktowy ludności Polski w latach 1950-2017 (jest tam 8 pomiarów) z podziałem na miasta, \n",
    "#wieś i razem  (będą trzy rodzaje punktów). \n",
    "\n",
    "#Dane do wykresu na stronie: https://pl.wikipedia.org/wiki/Ludno%C5%9B%C4%87_Polski\n",
    "\n",
    "%reset -f \n",
    "\n",
    "import matplotlib.pyplot as plt; \n",
    "import numpy as np\n",
    "%matplotlib inline\n",
    "\n",
    "rok = [1950, 1960, 1970, 1980, 1990, 2000, 2010, 2017]\n",
    "ludnosc = [25, 29.776, 32.642, 37.880, 38.654, 38.191, 38.530, 38.100]\n",
    "ludnosc_miasto_percentage = [0.369, 0.483, 0.523, 0.587, 0.618, 0.619, 0.608, 0.601]\n",
    "ludnosc_wies_percentage = [0.631, 0.517, 0.477, 0.413, 0.382, 0.381, 0.392, 0.399]\n",
    "\n",
    "plt.figure(figsize=(10, 8))\n",
    "plt.plot(rok, ludnosc, 'ro', rok, np.multiply(ludnosc, ludnosc_miasto_percentage), 'bs', rok, np.multiply(ludnosc, ludnosc_wies_percentage), 'g^')\n",
    "plt.xlabel('Lata')\n",
    "plt.ylabel('Liczba ludnosci')\n",
    "plt.legend([\"Liczba ludnosci\", \"Ludnosc miejska\", \"Ludnosc wiejska\"], loc =\"lower right\")\n",
    "plt.show()"
   ]
  },
  {
   "cell_type": "code",
   "execution_count": 11,
   "metadata": {},
   "outputs": [
    {
     "data": {
      "image/png": "[encoded data removed]",
      "text/plain": [
       "<Figure size 720x576 with 1 Axes>"
      ]
     },
     "metadata": {
      "needs_background": "light"
     },
     "output_type": "display_data"
    }
   ],
   "source": [
    "#Wykres słupkowy \n",
    "\n",
    "#Polecenie usuwa wszystkie zmienne z pamięci \n",
    "%reset -f \n",
    "\n",
    "import matplotlib.pyplot as plt; \n",
    "import numpy as np\n",
    "%matplotlib inline\n",
    "\n",
    "opisy = ('Ala', 'Ola', 'Tola', 'Lolek', 'Bolek')\n",
    "wartosci = [7,9,5,4,6]\n",
    "pozycje = [1,2,3,4,5]\n",
    "\n",
    "kolory = [\"red\",\"yellow\",\"blue\",\"green\",\"black\"]\n",
    "\n",
    "# Narysuj słupki o współrzędnych 'pozycje' i wysokości z 'wartosci'\n",
    "plt.figure(figsize=(10, 7)) #Rozmiary okna z wykresem\n",
    "plt.bar(pozycje, wartosci, align='center', alpha=0.9, color=kolory)\n",
    "plt.xticks(pozycje,opisy)\n",
    "\n",
    "plt.ylabel('Liczba punktów')\n",
    "\n",
    "plt.title('Wyniki gry (TYTUŁ WYKRESU)')\n",
    "\n",
    "fig = plt.gcf()\n",
    "fig.set_size_inches(10, 8)\n",
    "\n",
    "plt.show()\n",
    "\n"
   ]
  },
  {
   "cell_type": "code",
   "execution_count": 15,
   "metadata": {},
   "outputs": [
    {
     "data": {
      "image/png": "[encoded data removed]",
      "text/plain": [
       "<Figure size 1080x720 with 1 Axes>"
      ]
     },
     "metadata": {
      "needs_background": "light"
     },
     "output_type": "display_data"
    }
   ],
   "source": [
    "#Wykres słupkowy wraz z trendem\n",
    "\n",
    "import matplotlib.pyplot as plt\n",
    "import numpy as np\n",
    "import pandas as pd\n",
    "%matplotlib inline\n",
    "\n",
    "\n",
    "x_data = [2000,2001,2002,2003,2004,2005,2006,2007,2008,2009,2010,2011,2012,2013,2014,2015,2016,2017,2018,2019]\n",
    "y_data = [3,4,6,7,6,7,6,5,6,7,8,9,8,7,6,5,6,7,8,7]\n",
    "\n",
    "plt.figure(figsize=(15, 10))\n",
    "plt.bar(x_data, y_data, align='center', alpha=0.5, color='blue')\n",
    "plt.plot(x_data, y_data)\n",
    "plt.xticks(rotation=90)\n",
    "plt.xticks(x_data)\n",
    "plt.xlabel('year')\n",
    "plt.ylabel('count')\n",
    "plt.title('Trend wysokości sprzedaży')\n",
    "\n",
    "plt.show()\n"
   ]
  },
  {
   "cell_type": "code",
   "execution_count": 13,
   "metadata": {},
   "outputs": [
    {
     "data": {
      "image/png": "[encoded data removed]",
      "text/plain": [
       "<Figure size 1080x720 with 1 Axes>"
      ]
     },
     "metadata": {
      "needs_background": "light"
     },
     "output_type": "display_data"
    }
   ],
   "source": [
    "#Zadanie 12: Wykonać wykres słupkowy liczby ludności w poszczególnych województwach.\n",
    "#Dane do pobrania pod linkiem:\n",
    "#http://www.gminy.pl/Rank/W/Rank_W_L.html\n",
    "\n",
    "%reset -f \n",
    "\n",
    "import matplotlib.pyplot as plt; \n",
    "import numpy as np\n",
    "%matplotlib inline\n",
    "\n",
    "x_data = ['mazowieckie', 'śląskie', 'wielkopolskie' ,'małopolskie', 'dolnośląskie', 'łódzkie', 'pomorskie', 'lubelskie', 'podkarpackie', 'kujawsko-pomorskie', 'zachodniopomorskie', 'warmińsko-mazurskie', 'świętokrzyskie', 'podlaskie', 'lubuskie', 'opolskie']\n",
    "y_data = [5.3, 4.5, 3.4, 3.3, 2.9, 2.4, 2.3, 2.1, 2.1, 2.0, 1.7, 1.4, 1.2, 1.18, 1.01, 0.99]\n",
    "\n",
    "plt.figure(figsize=(15, 10))\n",
    "plt.bar(x_data, y_data, align='center', alpha=0.5, color='blue')\n",
    "plt.plot(x_data, y_data)\n",
    "plt.xticks(rotation=90)\n",
    "plt.xlabel('Wojewodztwo')\n",
    "plt.ylabel(\"Ludnosc [mln]\")\n",
    "plt.show()\n"
   ]
  },
  {
   "cell_type": "code",
   "execution_count": 12,
   "metadata": {},
   "outputs": [
    {
     "data": {
      "image/png": "[encoded data removed]",
      "text/plain": [
       "<Figure size 720x576 with 1 Axes>"
      ]
     },
     "metadata": {
      "needs_background": "light"
     },
     "output_type": "display_data"
    }
   ],
   "source": [
    "#Wykres słupkowy z grupami\n",
    "\n",
    "#Polecenie usuwa wszystkie zmienne z pamięci \n",
    "%reset -f \n",
    "\n",
    "import numpy as np\n",
    "import matplotlib.pyplot as plt\n",
    "%matplotlib inline\n",
    "\n",
    "#Dane do wykresu\n",
    "n_groups = 4 #Liczba grup słupków\n",
    "punkty_ala = (90, 55, 40, 65)\n",
    "punkty_ola = (85, 62, 54, 70)\n",
    "punkty_bolek = (65, 42, 84, 74)\n",
    "\n",
    "# Konstrukcja ogólna wykresu\n",
    "fig, ax = plt.subplots()\n",
    "index = np.arange(n_groups)\n",
    "\n",
    "bar_width = 0.25\n",
    "opacity = 0.8 #Przezroczystosc\n",
    "\n",
    "#Słupki dla Ala\n",
    "rects1 = plt.bar(index, punkty_ala, bar_width,\n",
    "alpha=opacity,\n",
    "color='b',\n",
    "label='Ola')\n",
    "\n",
    "#Słupki dla Ola\n",
    "rects2 = plt.bar(index + bar_width, punkty_ola, bar_width,\n",
    "alpha=opacity,\n",
    "color='g',\n",
    "label='Ala')\n",
    "\n",
    "#Słupki dla Bolek\n",
    "rects3 = plt.bar(index + 2*bar_width, punkty_bolek, bar_width,\n",
    "alpha=opacity,\n",
    "color='r',\n",
    "label='Bolek')\n",
    "        \n",
    "\n",
    "plt.xlabel('Wyniki w dyscyplinach')\n",
    "plt.ylabel('Liczba punktów')\n",
    "plt.title('Porównanie wyników')\n",
    "\n",
    "plt.xticks(index + bar_width, ('Tenis', 'Pływanie', 'Bieg', 'Łucznictwo'))\n",
    "plt.legend()\n",
    "\n",
    "plt.tight_layout()\n",
    "\n",
    "fig = plt.gcf()\n",
    "fig.set_size_inches(10, 8)\n",
    "\n",
    "plt.show()\n",
    "\n"
   ]
  },
  {
   "cell_type": "code",
   "execution_count": 11,
   "metadata": {},
   "outputs": [
    {
     "data": {
      "image/png": "[encoded data removed]",
      "text/plain": [
       "<Figure size 432x288 with 1 Axes>"
      ]
     },
     "metadata": {
      "needs_background": "light"
     },
     "output_type": "display_data"
    }
   ],
   "source": [
    "#Zadanie 13: Wykonać wykres słupkowy struktura płci i wieku ludności w Polsce w grupach wiekowych: 0-14, 15-64, 65+\n",
    "#Każdą grupę charakteryzujemy przez liczbę kobiet i mężczyzn.  \n",
    "#Dane do pobrania pod linkiem: \n",
    "#https://pl.wikipedia.org/wiki/Ludno%C5%9B%C4%87_Polski  \n",
    "    \n",
    "%reset -f \n",
    "\n",
    "import numpy as np\n",
    "import matplotlib.pyplot as plt\n",
    "%matplotlib inline\n",
    "\n",
    "categories = ['0-14', '15-64', '65+']\n",
    "group_names = ['Man', 'Woman']\n",
    "man = [2.9, 13.6, 2.05]\n",
    "woman = [2.8, 13.7, 3.3]\n",
    "\n",
    "bar_width = 0.4\n",
    "bar_positions = np.arange(len(categories))\n",
    "\n",
    "plt.bar(bar_positions - bar_width, man, width=bar_width, label=group_names[0])\n",
    "plt.bar(bar_positions, woman, width=bar_width, label=group_names[1])\n",
    "\n",
    "plt.xlabel('Age')\n",
    "plt.ylabel('People [mln]')\n",
    "plt.title('Sex and age structure of the population')\n",
    "plt.xticks(bar_positions, categories)\n",
    "plt.legend()\n",
    "\n",
    "plt.show()\n",
    "    "
   ]
  },
  {
   "cell_type": "code",
   "execution_count": 1,
   "metadata": {},
   "outputs": [
    {
     "data": {
      "image/png": "[encoded data removed]",
      "text/plain": [
       "<Figure size 720x576 with 1 Axes>"
      ]
     },
     "metadata": {},
     "output_type": "display_data"
    }
   ],
   "source": [
    "#Wykres kołowy\n",
    "\n",
    "#Polecenie usuwa wszystkie zmienne z pamięci \n",
    "%reset -f \n",
    "\n",
    "\n",
    "import matplotlib.pyplot as plt; \n",
    "import numpy as np\n",
    "\n",
    "%matplotlib inline\n",
    "\n",
    "wysuniecia = (0.1, 0.1, 0)  #Definiowanie rozmiarów wysuniecia części\n",
    "\n",
    "opisy = ('Ala', 'Ola', 'Tola')\n",
    "\n",
    "wycinki = [6, 5, 4]\n",
    "\n",
    "kolory = ('yellow','green','red')\n",
    "\n",
    "plt.pie(wycinki, labels=opisy, explode=wysuniecia, shadow=True, \n",
    "        autopct='%1.1f%%', #Procenty\n",
    "        colors=kolory\n",
    "       )\n",
    "\n",
    "plt.title('Wyniki gry')\n",
    "\n",
    "fig = plt.gcf()\n",
    "fig.set_size_inches(10, 8)\n",
    "\n",
    "\n",
    "plt.show()\n"
   ]
  },
  {
   "cell_type": "code",
   "execution_count": 23,
   "metadata": {},
   "outputs": [
    {
     "data": {
      "image/png": "[encoded data removed]",
      "text/plain": [
       "<Figure size 720x576 with 1 Axes>"
      ]
     },
     "metadata": {},
     "output_type": "display_data"
    }
   ],
   "source": [
    "#Zadanie 14: Wykonać wykres kołowy liczby ludności w poszczególnych województwach.\n",
    "#Dane do pobrania pod linkiem:\n",
    "#http://www.gminy.pl/Rank/W/Rank_W_L.html\n",
    "\n",
    "%reset -f \n",
    "\n",
    "\n",
    "import matplotlib.pyplot as plt; \n",
    "import numpy as np\n",
    "\n",
    "%matplotlib inline\n",
    "\n",
    "x_data = ['mazowieckie', 'śląskie', 'wielkopolskie' ,'małopolskie', 'dolnośląskie', 'łódzkie', 'pomorskie', 'lubelskie', 'podkarpackie', 'kujawsko-pomorskie', 'zachodniopomorskie', 'warmińsko-mazurskie', 'świętokrzyskie', 'podlaskie', 'lubuskie', 'opolskie']\n",
    "y_data = [5.3, 4.5, 3.4, 3.3, 2.9, 2.4, 2.3, 2.1, 2.1, 2.0, 1.7, 1.4, 1.2, 1.18, 1.01, 0.99]\n",
    "\n",
    "plt.pie(y_data, labels = x_data, shadow = True, autopct = '%1.1f%%', explode = [0.1] * len(x_data))\n",
    "plt.title('Ludnosc w poszczegolnych wojewodztwach')\n",
    "fig = plt.gcf()\n",
    "fig.set_size_inches(10, 8)\n",
    "plt.show()\n"
   ]
  },
  {
   "cell_type": "code",
   "execution_count": null,
   "metadata": {},
   "outputs": [],
   "source": [
    "\n",
    "Markery (sposoby pokazywania punktów):\n",
    "'.' \tpoint marker\n",
    "',' \tpixel marker\n",
    "'o' \tcircle marker\n",
    "'v' \ttriangle_down marker\n",
    "'^' \ttriangle_up marker\n",
    "'<' \ttriangle_left marker\n",
    "'>' \ttriangle_right marker\n",
    "'1' \ttri_down marker\n",
    "'2' \ttri_up marker\n",
    "'3' \ttri_left marker\n",
    "'4' \ttri_right marker\n",
    "'s' \tsquare marker\n",
    "'p' \tpentagon marker\n",
    "'*' \tstar marker\n",
    "'h' \thexagon1 marker\n",
    "'H' \thexagon2 marker\n",
    "'+' \tplus marker\n",
    "'x' \tx marker\n",
    "'D' \tdiamond marker\n",
    "'d' \tthin_diamond marker\n",
    "'|' \tvline marker\n",
    "'_' \thline marker\n",
    "\n",
    "Style linii:\n",
    "'-' \tsolid line style\n",
    "'--' \tdashed line style\n",
    "'-.' \tdash-dot line style\n",
    "':' \tdotted line style\n",
    "\n",
    "Kolory:\n",
    "'b' \tblue\n",
    "'g' \tgreen\n",
    "'r' \tred\n",
    "'c' \tcyan\n",
    "'m' \tmagenta\n",
    "'y' \tyellow\n",
    "'k' \tblack\n",
    "'w' \twhite\n",
    "\n"
   ]
  }
 ],
 "metadata": {
  "kernelspec": {
   "display_name": "Python 3",
   "language": "python",
   "name": "python3"
  },
  "language_info": {
   "codemirror_mode": {
    "name": "ipython",
    "version": 3
   },
   "file_extension": ".py",
   "mimetype": "text/x-python",
   "name": "python",
   "nbconvert_exporter": "python",
   "pygments_lexer": "ipython3",
   "version": "3.7.9"
  }
 },
 "nbformat": 4,
 "nbformat_minor": 4
}
